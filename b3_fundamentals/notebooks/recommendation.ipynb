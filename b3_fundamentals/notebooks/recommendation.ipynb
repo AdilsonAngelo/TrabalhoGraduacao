{
 "cells": [
  {
   "cell_type": "code",
   "execution_count": 2,
   "id": "scenic-rating",
   "metadata": {},
   "outputs": [],
   "source": [
    "import re\n",
    "import datetime as dt\n",
    "import requests\n",
    "from bs4 import BeautifulSoup\n",
    "from tqdm.notebook import tqdm\n",
    "import pandas as pd"
   ]
  },
  {
   "cell_type": "code",
   "execution_count": 3,
   "id": "universal-guinea",
   "metadata": {},
   "outputs": [],
   "source": [
    "res = requests.get('https://www.moneytimes.com.br/tag/carteira-recomendada/')\n",
    "soup = BeautifulSoup(res.content.decode())"
   ]
  },
  {
   "cell_type": "markdown",
   "id": "adverse-albany",
   "metadata": {},
   "source": [
    "#### Definição da heurística para pegar o mês atual"
   ]
  },
  {
   "cell_type": "code",
   "execution_count": 1,
   "id": "early-collector",
   "metadata": {},
   "outputs": [],
   "source": [
    "def has_current_month(s: str):\n",
    "    map_months = {\n",
    "        1: 'janeiro',\n",
    "        2: 'fevereiro',\n",
    "        3: 'março',\n",
    "        4: 'abril',\n",
    "        5: 'maio',\n",
    "        6: 'junho',\n",
    "        7: 'julho',\n",
    "        8: 'agosto',\n",
    "        9: 'setembro',\n",
    "        10: 'outubro',\n",
    "        11: 'novembro',\n",
    "        12: 'dezembro'\n",
    "    }\n",
    "    \n",
    "    current_month = map_months[dt.datetime.now().month]\n",
    "    \n",
    "    return current_month in s.lower()"
   ]
  },
  {
   "cell_type": "code",
   "execution_count": 6,
   "id": "minimal-burning",
   "metadata": {},
   "outputs": [],
   "source": [
    "links_carteiras = [s.find('a')['href'] for s in soup.find_all(class_='news-item__title')\n",
    "                   if s.find('a').get_text().startswith('Dividendos:')\n",
    "                   and has_current_month(s.find('a').get_text())]"
   ]
  },
  {
   "cell_type": "code",
   "execution_count": 8,
   "id": "victorian-hearts",
   "metadata": {},
   "outputs": [
    {
     "data": {
      "text/plain": [
       "[]"
      ]
     },
     "execution_count": 8,
     "metadata": {},
     "output_type": "execute_result"
    }
   ],
   "source": [
    "links_carteiras"
   ]
  },
  {
   "cell_type": "code",
   "execution_count": 15,
   "id": "strategic-machinery",
   "metadata": {},
   "outputs": [
    {
     "name": "stdout",
     "output_type": "stream",
     "text": [
      "https://www.moneytimes.com.br/dividendos-as-melhores-acoes-de-marco-na-opiniao-de-20-analistas/\n"
     ]
    }
   ],
   "source": [
    "for l in links_carteiras:\n",
    "    print(l)"
   ]
  },
  {
   "cell_type": "code",
   "execution_count": 18,
   "id": "small-handy",
   "metadata": {},
   "outputs": [],
   "source": [
    "def get_dfs_from_link(link):\n",
    "    response = requests.get(link)\n",
    "    soup = BeautifulSoup(response.content.decode())\n",
    "\n",
    "    dfs = []\n",
    "    for table in soup.find_all('table'):\n",
    "        table_headers = [th.text for th in table.find_all('th')]\n",
    "        table_data = [th.text for th in table.find_all('td')]\n",
    "        table_rows = [table_data[i:i+len(table_headers)] for i in range(0, len(table_data), len(table_headers))]\n",
    "\n",
    "        dfs.append(pd.DataFrame(table_rows, columns=table_headers))\n",
    "    return dfs\n"
   ]
  },
  {
   "cell_type": "code",
   "execution_count": 24,
   "id": "green-ownership",
   "metadata": {},
   "outputs": [
    {
     "name": "stdout",
     "output_type": "stream",
     "text": [
      "           Empresas Indicações\n",
      "0  1º          Vale         12\n",
      "1  2º  Engie Brasil         11\n",
      "2  2º         Taesa         11\n",
      "3  3º          Vivo         10\n",
      "                Empresas Indicações\n",
      "0                   Vale         12\n",
      "1           Engie Brasil         11\n",
      "2                  Taesa         11\n",
      "3                   Vivo         10\n",
      "4          BB Seguridade          9\n",
      "5     Energias do Brasil          6\n",
      "6                 Itaúsa          6\n",
      "7   Transmissão Paulista          6\n",
      "8                     B3          4\n",
      "9        Banco do Brasil          4\n",
      "10              Bradesco          4\n",
      "11                  Cesp          4\n",
      "12                Copasa          4\n",
      "13             AES Tietê          3\n",
      "14                   CCR          3\n",
      "15         Itaú Unibanco          3\n",
      "16               Sanepar          3\n",
      "17                Alupar          2\n",
      "18              Banrisul          2\n",
      "19             Bradespar          2\n",
      "20                 Copel          2\n",
      "21                  CPFL          2\n",
      "22                Cyrela          2\n",
      "23              Energisa          2\n",
      "24                Fleury          2\n",
      "25                Hypera          2\n",
      "26                Klabin          2\n",
      "27               Minerva          2\n",
      "28            Odontoprev          2\n",
      "29          Porto Seguro          2\n",
      "30             Qualicorp          2\n",
      "31                   TIM          2\n",
      "32                 Ambev          1\n",
      "33            BrasilAgro          1\n",
      "34         BR Properties          1\n",
      "35           Ecorodovias          1\n",
      "36            Eletrobras          1\n",
      "37                Enauta          1\n",
      "38                Gerdau          1\n",
      "39                Hering          1\n",
      "40        M. Dias Branco          1\n",
      "41                Sabesp          1\n",
      "42             Santander          1\n",
      "43            SulAmérica          1\n",
      "44                Suzano          1\n",
      "45                  Tupy          1\n"
     ]
    }
   ],
   "source": [
    "for df in get_dfs_from_link(links_carteiras[0]):\n",
    "    print(df)"
   ]
  },
  {
   "cell_type": "code",
   "execution_count": 21,
   "id": "bronze-earth",
   "metadata": {},
   "outputs": [],
   "source": [
    "top5 = get_dfs_from_link(links_carteiras[0])[-1].loc[:4]"
   ]
  },
  {
   "cell_type": "code",
   "execution_count": 22,
   "id": "absolute-deadline",
   "metadata": {},
   "outputs": [
    {
     "data": {
      "text/html": [
       "<div>\n",
       "<style scoped>\n",
       "    .dataframe tbody tr th:only-of-type {\n",
       "        vertical-align: middle;\n",
       "    }\n",
       "\n",
       "    .dataframe tbody tr th {\n",
       "        vertical-align: top;\n",
       "    }\n",
       "\n",
       "    .dataframe thead th {\n",
       "        text-align: right;\n",
       "    }\n",
       "</style>\n",
       "<table border=\"1\" class=\"dataframe\">\n",
       "  <thead>\n",
       "    <tr style=\"text-align: right;\">\n",
       "      <th></th>\n",
       "      <th>Empresas</th>\n",
       "      <th>Indicações</th>\n",
       "    </tr>\n",
       "  </thead>\n",
       "  <tbody>\n",
       "    <tr>\n",
       "      <th>0</th>\n",
       "      <td>Vale</td>\n",
       "      <td>12</td>\n",
       "    </tr>\n",
       "    <tr>\n",
       "      <th>1</th>\n",
       "      <td>Engie Brasil</td>\n",
       "      <td>11</td>\n",
       "    </tr>\n",
       "    <tr>\n",
       "      <th>2</th>\n",
       "      <td>Taesa</td>\n",
       "      <td>11</td>\n",
       "    </tr>\n",
       "    <tr>\n",
       "      <th>3</th>\n",
       "      <td>Vivo</td>\n",
       "      <td>10</td>\n",
       "    </tr>\n",
       "    <tr>\n",
       "      <th>4</th>\n",
       "      <td>BB Seguridade</td>\n",
       "      <td>9</td>\n",
       "    </tr>\n",
       "  </tbody>\n",
       "</table>\n",
       "</div>"
      ],
      "text/plain": [
       "        Empresas Indicações\n",
       "0           Vale         12\n",
       "1   Engie Brasil         11\n",
       "2          Taesa         11\n",
       "3           Vivo         10\n",
       "4  BB Seguridade          9"
      ]
     },
     "execution_count": 22,
     "metadata": {},
     "output_type": "execute_result"
    }
   ],
   "source": [
    "top5"
   ]
  }
 ],
 "metadata": {
  "kernelspec": {
   "display_name": "Python 3",
   "language": "python",
   "name": "python3"
  },
  "language_info": {
   "codemirror_mode": {
    "name": "ipython",
    "version": 3
   },
   "file_extension": ".py",
   "mimetype": "text/x-python",
   "name": "python",
   "nbconvert_exporter": "python",
   "pygments_lexer": "ipython3",
   "version": "3.9.0"
  }
 },
 "nbformat": 4,
 "nbformat_minor": 5
}
