{
 "cells": [
  {
   "cell_type": "markdown",
   "id": "biological-electric",
   "metadata": {},
   "source": [
    "# TODO\n",
    "\n",
    "- [x] Analisar missing data e eventualmente coletar dados de outras fontes para preencher os gaps\n",
    "- [x] Iniciar o front-end\n",
    "- [x] Coletar recomendações de diferentes sites\n",
    "- [x] Mostrar indicadores fundamentalistas de forma intuitiva: saúde empresa etc"
   ]
  },
  {
   "cell_type": "markdown",
   "id": "literary-cabin",
   "metadata": {},
   "source": [
    "Corretoras: Mirae, BTG, Elite, Necton, Ativa, XP, MyCap e Terra Investimentos"
   ]
  },
  {
   "cell_type": "markdown",
   "id": "knowing-rebecca",
   "metadata": {},
   "source": [
    "- [x] Terminar crawler de recomendação\n",
    "- [x] Adicionar recomendações no front"
   ]
  },
  {
   "cell_type": "markdown",
   "id": "ordinary-valuation",
   "metadata": {},
   "source": [
    "- [x] Mudar recomendações para página inicial\n",
    "- [x] Testes estatísticos para ver indicadores que mais influenciam na variação de preço\n",
    "- [ ] Mostrar variações (maiores/menores) de acordo com a média móvel na tela inicial\n",
    "- [ ] Fazer os gráficos de acordo com natureza do indicador (possivelmente um histograma tipo sono do mi fit)\n",
    "- [ ] Começar a escrever os fundamentos"
   ]
  },
  {
   "cell_type": "code",
   "execution_count": 1,
   "id": "loved-capability",
   "metadata": {},
   "outputs": [],
   "source": [
    "import numpy as np\n",
    "import pandas as pd\n",
    "import os\n",
    "from scipy import stats\n",
    "import requests\n",
    "import seaborn as sns\n",
    "from tqdm.notebook import tqdm\n",
    "from multiprocessing import Pool\n",
    "import matplotlib.pyplot as plt"
   ]
  },
  {
   "cell_type": "markdown",
   "id": "challenging-miracle",
   "metadata": {},
   "source": [
    "#### Funções de auxílio para buscar possíveis dados faltantes no Fundamentus"
   ]
  },
  {
   "cell_type": "code",
   "execution_count": 2,
   "id": "disciplinary-atlanta",
   "metadata": {},
   "outputs": [],
   "source": [
    "from bs4 import BeautifulSoup\n",
    "\n",
    "def deepest(root, tag):\n",
    "    descendant = root.find(tag)\n",
    "    if descendant:\n",
    "        return deepest(descendant, tag)\n",
    "    return root\n",
    "\n",
    "\n",
    "def br_to_us_num(num):\n",
    "    if num.strip() == '-':\n",
    "        num = '0'\n",
    "    clean = num.replace('.', '').replace(',', '.').replace('%', '').strip()\n",
    "    return float(clean)\n",
    "\n",
    "\n",
    "def get_missing_data(ticker: str, missing: [str]):\n",
    "\n",
    "    url = \"https://fundamentus.com.br/detalhes.php\"\n",
    "\n",
    "\n",
    "    payload = \"\"\n",
    "    headers = {\n",
    "        'cookie': \"__cfduid=d84796ca16170a58f296efed0cf24514a1611513340; PHPSESSID=1044771291df37ab455394de9468bf58; __utmc=138951332; __utmz=138951332.1611513342.1.1.utmcsr=google|utmccn=(organic)|utmcmd=organic|utmctr=(not%20provided); _qn=1; __utma=138951332.1388485926.1611513342.1613935152.1613937167.8; __utmt=1; __cf_bm=371a925b55141fc066db8b9094462ebb88bc95cd-1613937167-1800-ASEXqmIY6lwBXCJYhwc6nhoPzGDhpgbwUSJOO+lMPDmxXUfvzKwp0s4AplpXvLl+fjlBLq9K39kO+eycZLUQL9y+jtP3k0kzPoxQfOt1Aq4aNBlYf6u8iPyGMzqaBM6YSA==; __utmb=138951332.4.10.1613937167\",\n",
    "        'authority': \"fundamentus.com.br\",\n",
    "        'cache-control': \"max-age=0\",\n",
    "        'upgrade-insecure-requests': \"1\",\n",
    "        'user-agent': \"Mozilla/5.0 (X11; Linux x86_64) AppleWebKit/537.36 (KHTML, like Gecko) Chrome/88.0.4324.182 Safari/537.36\",\n",
    "        'accept': \"text/html,application/xhtml+xml,application/xml;q=0.9,image/avif,image/webp,image/apng,*/*;q=0.8,application/signed-exchange;v=b3;q=0.9\",\n",
    "        'sec-fetch-site': \"none\",\n",
    "        'sec-fetch-mode': \"navigate\",\n",
    "        'sec-fetch-user': \"?1\",\n",
    "        'sec-fetch-dest': \"document\",\n",
    "        'accept-language': \"pt-BR,pt;q=0.9,en-US;q=0.8,en;q=0.7\"\n",
    "    }\n",
    "\n",
    "    map_fields = {\n",
    "        'CAGR RECEITAS 5 ANOS': 'Cres. Rec (5a)',\n",
    "        'ROIC': 'ROIC',\n",
    "        'LIQ CORRENTE': 'Liquidez Corr',\n",
    "        'P/CAP GIRO': 'P/Cap. Giro',\n",
    "        'PSR': 'PSR',\n",
    "    }\n",
    "\n",
    "    querystring = {\"papel\": ticker}\n",
    "    response = requests.get(url,\n",
    "                            data=payload,\n",
    "                            headers=headers,\n",
    "                            params=querystring)\n",
    "\n",
    "    soup = BeautifulSoup(response.text)\n",
    "\n",
    "    ziped = list(zip(soup.find_all('td', 'label'),\n",
    "                     soup.find_all('td', 'data')))\n",
    "\n",
    "    res = dict()\n",
    "    for m in missing:\n",
    "        if m == 'DIV LIQ/PATRI':\n",
    "            div_liq, pat_liq = None, None\n",
    "            for z in ziped:\n",
    "                if z[0].find(text='Dív. Líquida'):\n",
    "                    div_liq = br_to_us_num(deepest(z[1], 'span').text)\n",
    "                elif z[0].find(text='Patrim. Líq'):\n",
    "                    pat_liq = br_to_us_num(deepest(z[1], 'span').text)\n",
    "            if div_liq is None or pat_liq is None:\n",
    "                continue\n",
    "            if pat_liq == 0:\n",
    "                res[m] = 0\n",
    "            else:\n",
    "                res[m] = div_liq/pat_liq\n",
    "        else:\n",
    "            for z in ziped:\n",
    "                if map_fields.get(m) is None:\n",
    "                    res[m] = np.nan\n",
    "                    break\n",
    "                if z[0].find(text=map_fields[m]):\n",
    "                    res[m] = br_to_us_num(deepest(z[1], 'span').text)\n",
    "                    break\n",
    "    return res"
   ]
  },
  {
   "cell_type": "markdown",
   "id": "nuclear-certificate",
   "metadata": {},
   "source": [
    "# Coleta de Dados"
   ]
  },
  {
   "cell_type": "code",
   "execution_count": 3,
   "id": "persistent-progress",
   "metadata": {},
   "outputs": [],
   "source": [
    "data_prefix = '../b3_fundamentals/data'\n",
    "statusinvest_prefix = os.path.abspath(data_prefix + '/statusinvest')\n",
    "yahoofinance_prefix = os.path.abspath(data_prefix + '/yahoofinance')"
   ]
  },
  {
   "cell_type": "code",
   "execution_count": 4,
   "id": "general-jonathan",
   "metadata": {},
   "outputs": [],
   "source": [
    "statusinvest_csv = statusinvest_prefix + '/' + os.listdir(statusinvest_prefix)[-1]"
   ]
  },
  {
   "cell_type": "code",
   "execution_count": 5,
   "id": "olympic-civilian",
   "metadata": {},
   "outputs": [
    {
     "data": {
      "text/html": [
       "<div>\n",
       "<style scoped>\n",
       "    .dataframe tbody tr th:only-of-type {\n",
       "        vertical-align: middle;\n",
       "    }\n",
       "\n",
       "    .dataframe tbody tr th {\n",
       "        vertical-align: top;\n",
       "    }\n",
       "\n",
       "    .dataframe thead th {\n",
       "        text-align: right;\n",
       "    }\n",
       "</style>\n",
       "<table border=\"1\" class=\"dataframe\">\n",
       "  <thead>\n",
       "    <tr style=\"text-align: right;\">\n",
       "      <th></th>\n",
       "      <th>PRECO</th>\n",
       "      <th>DY</th>\n",
       "      <th>P/L</th>\n",
       "      <th>P/VP</th>\n",
       "      <th>P/ATIVOS</th>\n",
       "      <th>MARGEM BRUTA</th>\n",
       "      <th>MARGEM EBIT</th>\n",
       "      <th>MARG LIQUIDA</th>\n",
       "      <th>P/EBIT</th>\n",
       "      <th>EV/EBIT</th>\n",
       "      <th>...</th>\n",
       "      <th>PASSIVOS/ATIVOS</th>\n",
       "      <th>GIRO ATIVOS</th>\n",
       "      <th>CAGR RECEITAS 5 ANOS</th>\n",
       "      <th>CAGR LUCROS 5 ANOS</th>\n",
       "      <th>LIQUIDEZ MEDIA DIARIA</th>\n",
       "      <th>VPA</th>\n",
       "      <th>LPA</th>\n",
       "      <th>PEG Ratio</th>\n",
       "      <th>VALOR DE MERCADO</th>\n",
       "      <th>SETOR</th>\n",
       "    </tr>\n",
       "    <tr>\n",
       "      <th>TICKER</th>\n",
       "      <th></th>\n",
       "      <th></th>\n",
       "      <th></th>\n",
       "      <th></th>\n",
       "      <th></th>\n",
       "      <th></th>\n",
       "      <th></th>\n",
       "      <th></th>\n",
       "      <th></th>\n",
       "      <th></th>\n",
       "      <th></th>\n",
       "      <th></th>\n",
       "      <th></th>\n",
       "      <th></th>\n",
       "      <th></th>\n",
       "      <th></th>\n",
       "      <th></th>\n",
       "      <th></th>\n",
       "      <th></th>\n",
       "      <th></th>\n",
       "      <th></th>\n",
       "    </tr>\n",
       "  </thead>\n",
       "  <tbody>\n",
       "    <tr>\n",
       "      <th>AALR3</th>\n",
       "      <td>9.01</td>\n",
       "      <td>0.97</td>\n",
       "      <td>-10.92</td>\n",
       "      <td>0.87</td>\n",
       "      <td>0.42</td>\n",
       "      <td>17.80</td>\n",
       "      <td>-0.98</td>\n",
       "      <td>-10.49</td>\n",
       "      <td>-116.57</td>\n",
       "      <td>-178.99</td>\n",
       "      <td>...</td>\n",
       "      <td>0.52</td>\n",
       "      <td>0.37</td>\n",
       "      <td>5.83</td>\n",
       "      <td>NaN</td>\n",
       "      <td>5.864217e+06</td>\n",
       "      <td>10.34</td>\n",
       "      <td>-0.82</td>\n",
       "      <td>0.03</td>\n",
       "      <td>1.068184e+09</td>\n",
       "      <td>SAÚDE</td>\n",
       "    </tr>\n",
       "    <tr>\n",
       "      <th>ABCB4</th>\n",
       "      <td>15.13</td>\n",
       "      <td>3.28</td>\n",
       "      <td>10.38</td>\n",
       "      <td>0.78</td>\n",
       "      <td>0.08</td>\n",
       "      <td>1.96</td>\n",
       "      <td>-1.80</td>\n",
       "      <td>5.46</td>\n",
       "      <td>-31.48</td>\n",
       "      <td>-31.37</td>\n",
       "      <td>...</td>\n",
       "      <td>0.90</td>\n",
       "      <td>0.14</td>\n",
       "      <td>21.38</td>\n",
       "      <td>-3.68</td>\n",
       "      <td>1.362790e+07</td>\n",
       "      <td>19.41</td>\n",
       "      <td>1.46</td>\n",
       "      <td>-0.29</td>\n",
       "      <td>3.331034e+09</td>\n",
       "      <td>FINANCEIRO E OUTROS</td>\n",
       "    </tr>\n",
       "    <tr>\n",
       "      <th>ABEV3</th>\n",
       "      <td>15.59</td>\n",
       "      <td>3.15</td>\n",
       "      <td>21.53</td>\n",
       "      <td>3.26</td>\n",
       "      <td>1.96</td>\n",
       "      <td>53.64</td>\n",
       "      <td>27.29</td>\n",
       "      <td>19.49</td>\n",
       "      <td>15.38</td>\n",
       "      <td>14.49</td>\n",
       "      <td>...</td>\n",
       "      <td>0.40</td>\n",
       "      <td>0.47</td>\n",
       "      <td>4.56</td>\n",
       "      <td>-1.85</td>\n",
       "      <td>3.901458e+08</td>\n",
       "      <td>4.78</td>\n",
       "      <td>0.72</td>\n",
       "      <td>-6.33</td>\n",
       "      <td>2.448384e+11</td>\n",
       "      <td>CONSUMO NÃO CÍCLICO</td>\n",
       "    </tr>\n",
       "    <tr>\n",
       "      <th>ADHM3</th>\n",
       "      <td>1.56</td>\n",
       "      <td>NaN</td>\n",
       "      <td>-4.09</td>\n",
       "      <td>-1.29</td>\n",
       "      <td>105.12</td>\n",
       "      <td>100.00</td>\n",
       "      <td>-13548.48</td>\n",
       "      <td>-18860.61</td>\n",
       "      <td>-5.69</td>\n",
       "      <td>-5.69</td>\n",
       "      <td>...</td>\n",
       "      <td>82.72</td>\n",
       "      <td>0.14</td>\n",
       "      <td>NaN</td>\n",
       "      <td>NaN</td>\n",
       "      <td>9.420144e+04</td>\n",
       "      <td>-1.21</td>\n",
       "      <td>-0.38</td>\n",
       "      <td>-0.58</td>\n",
       "      <td>2.543977e+07</td>\n",
       "      <td>SAÚDE</td>\n",
       "    </tr>\n",
       "    <tr>\n",
       "      <th>AERI3</th>\n",
       "      <td>9.41</td>\n",
       "      <td>NaN</td>\n",
       "      <td>63.96</td>\n",
       "      <td>7.49</td>\n",
       "      <td>3.05</td>\n",
       "      <td>11.13</td>\n",
       "      <td>9.30</td>\n",
       "      <td>5.13</td>\n",
       "      <td>35.24</td>\n",
       "      <td>37.40</td>\n",
       "      <td>...</td>\n",
       "      <td>0.59</td>\n",
       "      <td>0.93</td>\n",
       "      <td>NaN</td>\n",
       "      <td>NaN</td>\n",
       "      <td>5.683641e+07</td>\n",
       "      <td>1.26</td>\n",
       "      <td>0.15</td>\n",
       "      <td>2.32</td>\n",
       "      <td>7.225393e+09</td>\n",
       "      <td>BENS INDUSTRIAIS</td>\n",
       "    </tr>\n",
       "  </tbody>\n",
       "</table>\n",
       "<p>5 rows × 30 columns</p>\n",
       "</div>"
      ],
      "text/plain": [
       "        PRECO    DY    P/L  P/VP  P/ATIVOS  MARGEM BRUTA  MARGEM EBIT  \\\n",
       "TICKER                                                                  \n",
       "AALR3    9.01  0.97 -10.92  0.87      0.42         17.80        -0.98   \n",
       "ABCB4   15.13  3.28  10.38  0.78      0.08          1.96        -1.80   \n",
       "ABEV3   15.59  3.15  21.53  3.26      1.96         53.64        27.29   \n",
       "ADHM3    1.56   NaN  -4.09 -1.29    105.12        100.00    -13548.48   \n",
       "AERI3    9.41   NaN  63.96  7.49      3.05         11.13         9.30   \n",
       "\n",
       "        MARG LIQUIDA  P/EBIT  EV/EBIT  ...  PASSIVOS/ATIVOS  GIRO ATIVOS  \\\n",
       "TICKER                                 ...                                 \n",
       "AALR3         -10.49 -116.57  -178.99  ...             0.52         0.37   \n",
       "ABCB4           5.46  -31.48   -31.37  ...             0.90         0.14   \n",
       "ABEV3          19.49   15.38    14.49  ...             0.40         0.47   \n",
       "ADHM3      -18860.61   -5.69    -5.69  ...            82.72         0.14   \n",
       "AERI3           5.13   35.24    37.40  ...             0.59         0.93   \n",
       "\n",
       "        CAGR RECEITAS 5 ANOS  CAGR LUCROS 5 ANOS  LIQUIDEZ MEDIA DIARIA  \\\n",
       "TICKER                                                                    \n",
       "AALR3                   5.83                 NaN           5.864217e+06   \n",
       "ABCB4                  21.38               -3.68           1.362790e+07   \n",
       "ABEV3                   4.56               -1.85           3.901458e+08   \n",
       "ADHM3                    NaN                 NaN           9.420144e+04   \n",
       "AERI3                    NaN                 NaN           5.683641e+07   \n",
       "\n",
       "          VPA   LPA  PEG Ratio  VALOR DE MERCADO                SETOR  \n",
       "TICKER                                                                 \n",
       "AALR3   10.34 -0.82       0.03      1.068184e+09                SAÚDE  \n",
       "ABCB4   19.41  1.46      -0.29      3.331034e+09  FINANCEIRO E OUTROS  \n",
       "ABEV3    4.78  0.72      -6.33      2.448384e+11  CONSUMO NÃO CÍCLICO  \n",
       "ADHM3   -1.21 -0.38      -0.58      2.543977e+07                SAÚDE  \n",
       "AERI3    1.26  0.15       2.32      7.225393e+09     BENS INDUSTRIAIS  \n",
       "\n",
       "[5 rows x 30 columns]"
      ]
     },
     "execution_count": 5,
     "metadata": {},
     "output_type": "execute_result"
    }
   ],
   "source": [
    "df = pd.read_csv(statusinvest_csv, index_col='TICKER')\n",
    "df.columns = [col.strip().replace(' / ', '/') for col in df.columns]\n",
    "df.head()"
   ]
  },
  {
   "cell_type": "code",
   "execution_count": 6,
   "id": "honey-cigarette",
   "metadata": {},
   "outputs": [
    {
     "name": "stdout",
     "output_type": "stream",
     "text": [
      "max days: 253\n"
     ]
    }
   ],
   "source": [
    "# pega os arquivos com os dados históricos de cada ação\n",
    "yf_files = os.listdir(yahoofinance_prefix)\n",
    "\n",
    "closes = dict(var1y_6m={}, var6m_1d={})\n",
    "\n",
    "def variation(prev, curr):\n",
    "    if np.isnan(prev) or np.isnan(curr):\n",
    "        return np.nan\n",
    "    var = curr/prev - 1\n",
    "    \n",
    "#     return var >= .2\n",
    "    if var > .20:\n",
    "        return 2\n",
    "    elif var > .10:\n",
    "        return 1\n",
    "    elif var > -.1:\n",
    "        return -1\n",
    "    else:\n",
    "        return -2\n",
    "\n",
    "dfs_tickers = dict()\n",
    "for ticker in list(df.index):\n",
    "    ms = list(filter(lambda x: ticker in x, yf_files))\n",
    "    if len(ms) == 0:\n",
    "        continue\n",
    "    try:\n",
    "        dfs_tickers[ticker] = pd.read_csv(f'{yahoofinance_prefix}/{ms[0]}', index_col='Date')\n",
    "    except Exception as e:\n",
    "        print(ticker)\n",
    "        raise e\n",
    "    \n",
    "max_days = max(map(lambda x: len(x), dfs_tickers.values()))\n",
    "print(f'max days: {max_days}')\n",
    "\n",
    "for ticker, df_ticker in dfs_tickers.items():\n",
    "    df_ticker.dropna(inplace=True)\n",
    "\n",
    "    # retira ações que não tem 1 ano completo na bolsa\n",
    "    if len(df_ticker) < max_days * .95:\n",
    "        continue\n",
    "\n",
    "    middle = int(len(df_ticker)/2)\n",
    "    y1mean = df_ticker['Adj Close'].iloc[:10].mean()\n",
    "    m6mean = df_ticker['Adj Close'].iloc[middle-5:middle+5].mean()\n",
    "    d1mean = df_ticker['Adj Close'].iloc[-10:].mean()\n",
    "\n",
    "\n",
    "    closes['var1y_6m'][ticker] = variation(y1mean, m6mean)\n",
    "    closes['var6m_1d'][ticker] = variation(m6mean, d1mean)"
   ]
  },
  {
   "cell_type": "code",
   "execution_count": 7,
   "id": "incredible-degree",
   "metadata": {},
   "outputs": [
    {
     "data": {
      "text/plain": [
       "'/home/adilson/Documentos/CIn/TrabalhoGraduacao/b3_fundamentals/b3_fundamentals/data/yahoofinance'"
      ]
     },
     "execution_count": 7,
     "metadata": {},
     "output_type": "execute_result"
    }
   ],
   "source": [
    "yahoofinance_prefix"
   ]
  },
  {
   "cell_type": "code",
   "execution_count": 8,
   "id": "superb-arthritis",
   "metadata": {},
   "outputs": [
    {
     "name": "stdout",
     "output_type": "stream",
     "text": [
      "444\n",
      "444\n"
     ]
    },
    {
     "data": {
      "text/html": [
       "<div>\n",
       "<style scoped>\n",
       "    .dataframe tbody tr th:only-of-type {\n",
       "        vertical-align: middle;\n",
       "    }\n",
       "\n",
       "    .dataframe tbody tr th {\n",
       "        vertical-align: top;\n",
       "    }\n",
       "\n",
       "    .dataframe thead th {\n",
       "        text-align: right;\n",
       "    }\n",
       "</style>\n",
       "<table border=\"1\" class=\"dataframe\">\n",
       "  <thead>\n",
       "    <tr style=\"text-align: right;\">\n",
       "      <th></th>\n",
       "      <th>var1y_6m</th>\n",
       "      <th>var6m_1d</th>\n",
       "    </tr>\n",
       "  </thead>\n",
       "  <tbody>\n",
       "    <tr>\n",
       "      <th>AALR3</th>\n",
       "      <td>1</td>\n",
       "      <td>-2</td>\n",
       "    </tr>\n",
       "    <tr>\n",
       "      <th>ABCB4</th>\n",
       "      <td>-1</td>\n",
       "      <td>1</td>\n",
       "    </tr>\n",
       "    <tr>\n",
       "      <th>ABEV3</th>\n",
       "      <td>-1</td>\n",
       "      <td>2</td>\n",
       "    </tr>\n",
       "    <tr>\n",
       "      <th>ADHM3</th>\n",
       "      <td>2</td>\n",
       "      <td>-2</td>\n",
       "    </tr>\n",
       "    <tr>\n",
       "      <th>AFLT3</th>\n",
       "      <td>2</td>\n",
       "      <td>-1</td>\n",
       "    </tr>\n",
       "  </tbody>\n",
       "</table>\n",
       "</div>"
      ],
      "text/plain": [
       "       var1y_6m  var6m_1d\n",
       "AALR3         1        -2\n",
       "ABCB4        -1         1\n",
       "ABEV3        -1         2\n",
       "ADHM3         2        -2\n",
       "AFLT3         2        -1"
      ]
     },
     "execution_count": 8,
     "metadata": {},
     "output_type": "execute_result"
    }
   ],
   "source": [
    "y = pd.DataFrame(closes)\n",
    "print(len(y))\n",
    "y.dropna(inplace=True)\n",
    "print(len(y))\n",
    "y.head()"
   ]
  },
  {
   "cell_type": "code",
   "execution_count": 9,
   "id": "unlimited-tuesday",
   "metadata": {},
   "outputs": [
    {
     "data": {
      "text/plain": [
       "var1y_6m    2\n",
       "var6m_1d    2\n",
       "Name: BIDI11, dtype: int64"
      ]
     },
     "execution_count": 9,
     "metadata": {},
     "output_type": "execute_result"
    }
   ],
   "source": [
    "y.loc['BIDI11']"
   ]
  },
  {
   "cell_type": "code",
   "execution_count": 10,
   "id": "fundamental-smoke",
   "metadata": {},
   "outputs": [
    {
     "name": "stdout",
     "output_type": "stream",
     "text": [
      "(564, 30)\n",
      "(444, 30)\n"
     ]
    },
    {
     "data": {
      "text/plain": [
       "True"
      ]
     },
     "execution_count": 10,
     "metadata": {},
     "output_type": "execute_result"
    }
   ],
   "source": [
    "X = df.copy()\n",
    "print(X.shape)\n",
    "diffXy = set(X.index) ^ set(y.index)\n",
    "X.drop(diffXy, inplace=True)\n",
    "# y.drop(diffXy, inplace=True)\n",
    "print(X.shape)\n",
    "all(X.index == y.index)"
   ]
  },
  {
   "cell_type": "markdown",
   "id": "conditional-amino",
   "metadata": {},
   "source": [
    "# Definição de tipos"
   ]
  },
  {
   "cell_type": "code",
   "execution_count": 11,
   "id": "printable-emergency",
   "metadata": {},
   "outputs": [
    {
     "data": {
      "text/plain": [
       "PRECO                     float64\n",
       "DY                        float64\n",
       "P/L                       float64\n",
       "P/VP                      float64\n",
       "P/ATIVOS                  float64\n",
       "MARGEM BRUTA              float64\n",
       "MARGEM EBIT               float64\n",
       "MARG LIQUIDA              float64\n",
       "P/EBIT                    float64\n",
       "EV/EBIT                   float64\n",
       "DIVIDA LIQUIDA/EBIT       float64\n",
       "DIV LIQ/PATRI             float64\n",
       "PSR                       float64\n",
       "P/CAP GIRO                float64\n",
       "P AT CIR LIQ              float64\n",
       "LIQ CORRENTE              float64\n",
       "ROE                       float64\n",
       "ROA                       float64\n",
       "ROIC                      float64\n",
       "PATRIMONIO/ATIVOS         float64\n",
       "PASSIVOS/ATIVOS           float64\n",
       "GIRO ATIVOS               float64\n",
       "CAGR RECEITAS 5 ANOS      float64\n",
       "CAGR LUCROS 5 ANOS        float64\n",
       "LIQUIDEZ MEDIA DIARIA     float64\n",
       "VPA                       float64\n",
       "LPA                       float64\n",
       "PEG Ratio                 float64\n",
       "VALOR DE MERCADO          float64\n",
       "SETOR                    category\n",
       "dtype: object"
      ]
     },
     "execution_count": 11,
     "metadata": {},
     "output_type": "execute_result"
    }
   ],
   "source": [
    "X['SETOR'] = X['SETOR'].astype('category')\n",
    "X.dtypes"
   ]
  },
  {
   "cell_type": "markdown",
   "id": "greek-christopher",
   "metadata": {},
   "source": [
    "# Tratamento de dados ausentes"
   ]
  },
  {
   "cell_type": "code",
   "execution_count": 12,
   "id": "going-planning",
   "metadata": {},
   "outputs": [
    {
     "data": {
      "text/plain": [
       "<AxesSubplot:>"
      ]
     },
     "execution_count": 12,
     "metadata": {},
     "output_type": "execute_result"
    },
    {
     "data": {
      "image/png": "[encoded data removed]",
      "text/plain": [
       "<Figure size 720x576 with 1 Axes>"
      ]
     },
     "metadata": {
      "needs_background": "light"
     },
     "output_type": "display_data"
    }
   ],
   "source": [
    "X.isna().sum().plot.barh(rot=30, figsize=(10, 8))"
   ]
  },
  {
   "cell_type": "markdown",
   "id": "previous-speed",
   "metadata": {},
   "source": [
    "Ações que não possuem liquidez é pq já não são mais negociadas"
   ]
  },
  {
   "cell_type": "code",
   "execution_count": 13,
   "id": "soviet-description",
   "metadata": {},
   "outputs": [
    {
     "data": {
      "text/plain": [
       "Index(['BOBR3', 'BPHA3', 'CALI3', 'CASN4', 'COCE6', 'CORR3', 'CORR4', 'EMAE3',\n",
       "       'FIGE3', 'FIGE4', 'HOOT3', 'LUXM3', 'MGEL3', 'MMAQ3', 'MMAQ4', 'MTIG3',\n",
       "       'MTSA3', 'PPAR3', 'SHUL3', 'TKNO3', 'VSPT3'],\n",
       "      dtype='object', name='TICKER')"
      ]
     },
     "execution_count": 13,
     "metadata": {},
     "output_type": "execute_result"
    }
   ],
   "source": [
    "X[X['LIQUIDEZ MEDIA DIARIA'].isna()].index"
   ]
  },
  {
   "cell_type": "code",
   "execution_count": 14,
   "id": "guilty-batman",
   "metadata": {},
   "outputs": [],
   "source": [
    "to_drop_lq_med_dia = X[X['LIQUIDEZ MEDIA DIARIA'].isna()].index\n",
    "\n",
    "X.drop(to_drop_lq_med_dia, inplace=True)\n",
    "y.drop(to_drop_lq_med_dia, inplace=True)"
   ]
  },
  {
   "cell_type": "code",
   "execution_count": 15,
   "id": "active-desert",
   "metadata": {},
   "outputs": [
    {
     "name": "stdout",
     "output_type": "stream",
     "text": [
      "423\n"
     ]
    },
    {
     "data": {
      "text/plain": [
       "True"
      ]
     },
     "execution_count": 15,
     "metadata": {},
     "output_type": "execute_result"
    }
   ],
   "source": [
    "print(len(X))\n",
    "all(X.index == y.index)"
   ]
  },
  {
   "cell_type": "markdown",
   "id": "knowing-failure",
   "metadata": {},
   "source": [
    "No caso abaixo, nem o fundamentus nem o status invest possuem informações sobre as margens, a Receita Líquida é o denominador de cálculo dessas margens, e para esses papeis ela é zero, então a melhor solução nesse caso é **imputar zero nas margens**"
   ]
  },
  {
   "cell_type": "code",
   "execution_count": 16,
   "id": "documentary-crazy",
   "metadata": {},
   "outputs": [
    {
     "name": "stdout",
     "output_type": "stream",
     "text": [
      "True\n",
      "True\n"
     ]
    },
    {
     "data": {
      "text/plain": [
       "Index(['BBSE3', 'BRAP3', 'BRAP4', 'ECPR3', 'ECPR4', 'JBDU3', 'JBDU4', 'LIPR3',\n",
       "       'MAPT3', 'MAPT4', 'PPLA11', 'TCNO3', 'TCNO4'],\n",
       "      dtype='object', name='TICKER')"
      ]
     },
     "execution_count": 16,
     "metadata": {},
     "output_type": "execute_result"
    }
   ],
   "source": [
    "print(all(X[X['MARG LIQUIDA'].isna()].index == X[X['MARGEM BRUTA'].isna()].index))\n",
    "print(all(X[X['MARG LIQUIDA'].isna()].index == X[X['MARGEM EBIT'].isna()].index))\n",
    "\n",
    "X[X['MARG LIQUIDA'].isna()].index"
   ]
  },
  {
   "cell_type": "markdown",
   "id": "descending-uzbekistan",
   "metadata": {},
   "source": [
    "No caso de `CAGR 5 ANOS` abaixo os papéis tem menos de 5 anos de existência, não sendo possível o calculo"
   ]
  },
  {
   "cell_type": "code",
   "execution_count": 17,
   "id": "interesting-switch",
   "metadata": {},
   "outputs": [
    {
     "data": {
      "text/plain": [
       "Index(['ADHM3', 'ATOM3', 'BAHI3', 'BIOM3', 'BMGB4', 'BRAP3', 'BRAP4', 'CEAB3',\n",
       "       'CNTO3', 'ECPR3', 'ECPR4', 'HAPV3', 'HBTS5', 'JBDU3', 'JBDU4', 'LIPR3',\n",
       "       'LWSA3', 'MAPT3', 'MAPT4', 'MTRE3', 'NORD3', 'PPLA11', 'PRNR3', 'SMLS3',\n",
       "       'TCNO3', 'TCNO4', 'VIVA3', 'VIVR3'],\n",
       "      dtype='object', name='TICKER')"
      ]
     },
     "execution_count": 17,
     "metadata": {},
     "output_type": "execute_result"
    }
   ],
   "source": [
    "X[X['CAGR LUCROS 5 ANOS'].isna() & X['CAGR RECEITAS 5 ANOS'].isna()].index"
   ]
  },
  {
   "cell_type": "code",
   "execution_count": 18,
   "id": "determined-providence",
   "metadata": {},
   "outputs": [
    {
     "data": {
      "text/plain": [
       "Index(['ADHM3', 'BAHI3', 'BIOM3', 'BRAP3', 'BRAP4', 'CEAB3', 'CNTO3', 'ECPR3',\n",
       "       'ECPR4', 'HAPV3', 'LIPR3', 'LWSA3', 'MTRE3', 'NORD3', 'PRNR3', 'SMLS3',\n",
       "       'TCNO3', 'TCNO4', 'VIVA3', 'VIVR3'],\n",
       "      dtype='object', name='TICKER')"
      ]
     },
     "execution_count": 18,
     "metadata": {},
     "output_type": "execute_result"
    }
   ],
   "source": [
    "X[X['CAGR RECEITAS 5 ANOS'].isna() & (X['SETOR'] != 'FINANCEIRO E OUTROS')]['SETOR'].index"
   ]
  },
  {
   "cell_type": "markdown",
   "id": "supreme-softball",
   "metadata": {},
   "source": [
    "Nas duas células abaixo é possível ver que os dados ausentes em `DIVIDA LIQUIDA/EBIT` e `ROIC` pertencem somente ao setor `FINANCEIRO E OUTROS` podendo ser imputado com zeros."
   ]
  },
  {
   "cell_type": "code",
   "execution_count": 19,
   "id": "beginning-acting",
   "metadata": {},
   "outputs": [
    {
     "data": {
      "text/plain": [
       "FINANCEIRO E OUTROS                44\n",
       "BENS INDUSTRIAIS                    0\n",
       "COMUNICAÇÕES                        0\n",
       "CONSUMO CÍCLICO                     0\n",
       "CONSUMO NÃO CÍCLICO                 0\n",
       "MATERIAIS BÁSICOS                   0\n",
       "PETRÓLEO. GÁS E BIOCOMBUSTÍVEIS     0\n",
       "SAÚDE                               0\n",
       "TECNOLOGIA DA INFORMAÇÃO            0\n",
       "UTILIDADE PÚBLICA                   0\n",
       "Name: SETOR, dtype: int64"
      ]
     },
     "execution_count": 19,
     "metadata": {},
     "output_type": "execute_result"
    }
   ],
   "source": [
    "X[X['DIVIDA LIQUIDA/EBIT'].isna()]['SETOR'].value_counts()"
   ]
  },
  {
   "cell_type": "code",
   "execution_count": 20,
   "id": "subtle-anatomy",
   "metadata": {},
   "outputs": [
    {
     "data": {
      "text/plain": [
       "FINANCEIRO E OUTROS                44\n",
       "BENS INDUSTRIAIS                    0\n",
       "COMUNICAÇÕES                        0\n",
       "CONSUMO CÍCLICO                     0\n",
       "CONSUMO NÃO CÍCLICO                 0\n",
       "MATERIAIS BÁSICOS                   0\n",
       "PETRÓLEO. GÁS E BIOCOMBUSTÍVEIS     0\n",
       "SAÚDE                               0\n",
       "TECNOLOGIA DA INFORMAÇÃO            0\n",
       "UTILIDADE PÚBLICA                   0\n",
       "Name: SETOR, dtype: int64"
      ]
     },
     "execution_count": 20,
     "metadata": {},
     "output_type": "execute_result"
    }
   ],
   "source": [
    "X[X['ROIC'].isna()]['SETOR'].value_counts()"
   ]
  },
  {
   "cell_type": "code",
   "execution_count": 21,
   "id": "small-failure",
   "metadata": {},
   "outputs": [
    {
     "data": {
      "text/html": [
       "<div>\n",
       "<style scoped>\n",
       "    .dataframe tbody tr th:only-of-type {\n",
       "        vertical-align: middle;\n",
       "    }\n",
       "\n",
       "    .dataframe tbody tr th {\n",
       "        vertical-align: top;\n",
       "    }\n",
       "\n",
       "    .dataframe thead th {\n",
       "        text-align: right;\n",
       "    }\n",
       "</style>\n",
       "<table border=\"1\" class=\"dataframe\">\n",
       "  <thead>\n",
       "    <tr style=\"text-align: right;\">\n",
       "      <th></th>\n",
       "      <th>PRECO</th>\n",
       "      <th>DY</th>\n",
       "      <th>P/L</th>\n",
       "      <th>P/VP</th>\n",
       "      <th>P/ATIVOS</th>\n",
       "      <th>MARGEM BRUTA</th>\n",
       "      <th>MARGEM EBIT</th>\n",
       "      <th>MARG LIQUIDA</th>\n",
       "      <th>P/EBIT</th>\n",
       "      <th>EV/EBIT</th>\n",
       "      <th>...</th>\n",
       "      <th>PASSIVOS/ATIVOS</th>\n",
       "      <th>GIRO ATIVOS</th>\n",
       "      <th>CAGR RECEITAS 5 ANOS</th>\n",
       "      <th>CAGR LUCROS 5 ANOS</th>\n",
       "      <th>LIQUIDEZ MEDIA DIARIA</th>\n",
       "      <th>VPA</th>\n",
       "      <th>LPA</th>\n",
       "      <th>PEG Ratio</th>\n",
       "      <th>VALOR DE MERCADO</th>\n",
       "      <th>SETOR</th>\n",
       "    </tr>\n",
       "    <tr>\n",
       "      <th>TICKER</th>\n",
       "      <th></th>\n",
       "      <th></th>\n",
       "      <th></th>\n",
       "      <th></th>\n",
       "      <th></th>\n",
       "      <th></th>\n",
       "      <th></th>\n",
       "      <th></th>\n",
       "      <th></th>\n",
       "      <th></th>\n",
       "      <th></th>\n",
       "      <th></th>\n",
       "      <th></th>\n",
       "      <th></th>\n",
       "      <th></th>\n",
       "      <th></th>\n",
       "      <th></th>\n",
       "      <th></th>\n",
       "      <th></th>\n",
       "      <th></th>\n",
       "      <th></th>\n",
       "    </tr>\n",
       "  </thead>\n",
       "  <tbody>\n",
       "    <tr>\n",
       "      <th>BAZA3</th>\n",
       "      <td>41.99</td>\n",
       "      <td>8.54</td>\n",
       "      <td>3.68</td>\n",
       "      <td>0.54</td>\n",
       "      <td>0.06</td>\n",
       "      <td>37.85</td>\n",
       "      <td>49.19</td>\n",
       "      <td>28.25</td>\n",
       "      <td>2.11</td>\n",
       "      <td>2.08</td>\n",
       "      <td>...</td>\n",
       "      <td>0.89</td>\n",
       "      <td>0.06</td>\n",
       "      <td>6.35</td>\n",
       "      <td>8.48</td>\n",
       "      <td>4.826900e+04</td>\n",
       "      <td>77.52</td>\n",
       "      <td>11.42</td>\n",
       "      <td>0.04</td>\n",
       "      <td>1.227343e+09</td>\n",
       "      <td>FINANCEIRO E OUTROS</td>\n",
       "    </tr>\n",
       "    <tr>\n",
       "      <th>BEES3</th>\n",
       "      <td>4.95</td>\n",
       "      <td>4.20</td>\n",
       "      <td>6.75</td>\n",
       "      <td>0.91</td>\n",
       "      <td>0.05</td>\n",
       "      <td>50.63</td>\n",
       "      <td>23.67</td>\n",
       "      <td>14.58</td>\n",
       "      <td>4.16</td>\n",
       "      <td>4.35</td>\n",
       "      <td>...</td>\n",
       "      <td>0.94</td>\n",
       "      <td>0.05</td>\n",
       "      <td>-6.61</td>\n",
       "      <td>8.19</td>\n",
       "      <td>2.227655e+05</td>\n",
       "      <td>5.43</td>\n",
       "      <td>0.73</td>\n",
       "      <td>0.87</td>\n",
       "      <td>1.636511e+09</td>\n",
       "      <td>FINANCEIRO E OUTROS</td>\n",
       "    </tr>\n",
       "    <tr>\n",
       "      <th>BEES4</th>\n",
       "      <td>5.81</td>\n",
       "      <td>3.58</td>\n",
       "      <td>7.92</td>\n",
       "      <td>1.07</td>\n",
       "      <td>0.06</td>\n",
       "      <td>50.63</td>\n",
       "      <td>23.67</td>\n",
       "      <td>14.58</td>\n",
       "      <td>4.88</td>\n",
       "      <td>4.35</td>\n",
       "      <td>...</td>\n",
       "      <td>0.94</td>\n",
       "      <td>0.05</td>\n",
       "      <td>-6.61</td>\n",
       "      <td>8.19</td>\n",
       "      <td>1.866018e+04</td>\n",
       "      <td>5.43</td>\n",
       "      <td>0.73</td>\n",
       "      <td>1.03</td>\n",
       "      <td>1.636511e+09</td>\n",
       "      <td>FINANCEIRO E OUTROS</td>\n",
       "    </tr>\n",
       "    <tr>\n",
       "      <th>BMGB4</th>\n",
       "      <td>5.15</td>\n",
       "      <td>3.45</td>\n",
       "      <td>7.75</td>\n",
       "      <td>0.75</td>\n",
       "      <td>0.12</td>\n",
       "      <td>72.00</td>\n",
       "      <td>3.27</td>\n",
       "      <td>10.15</td>\n",
       "      <td>24.06</td>\n",
       "      <td>24.06</td>\n",
       "      <td>...</td>\n",
       "      <td>0.84</td>\n",
       "      <td>0.16</td>\n",
       "      <td>NaN</td>\n",
       "      <td>NaN</td>\n",
       "      <td>9.092658e+06</td>\n",
       "      <td>6.91</td>\n",
       "      <td>0.67</td>\n",
       "      <td>0.20</td>\n",
       "      <td>3.063838e+09</td>\n",
       "      <td>FINANCEIRO E OUTROS</td>\n",
       "    </tr>\n",
       "    <tr>\n",
       "      <th>BNBR3</th>\n",
       "      <td>67.01</td>\n",
       "      <td>4.02</td>\n",
       "      <td>5.68</td>\n",
       "      <td>0.94</td>\n",
       "      <td>0.09</td>\n",
       "      <td>57.57</td>\n",
       "      <td>40.13</td>\n",
       "      <td>25.83</td>\n",
       "      <td>3.65</td>\n",
       "      <td>3.65</td>\n",
       "      <td>...</td>\n",
       "      <td>0.90</td>\n",
       "      <td>0.06</td>\n",
       "      <td>-9.48</td>\n",
       "      <td>27.23</td>\n",
       "      <td>3.130624e+04</td>\n",
       "      <td>71.46</td>\n",
       "      <td>11.80</td>\n",
       "      <td>-0.14</td>\n",
       "      <td>5.787752e+09</td>\n",
       "      <td>FINANCEIRO E OUTROS</td>\n",
       "    </tr>\n",
       "    <tr>\n",
       "      <th>ITUB3</th>\n",
       "      <td>25.10</td>\n",
       "      <td>1.97</td>\n",
       "      <td>13.03</td>\n",
       "      <td>1.59</td>\n",
       "      <td>0.12</td>\n",
       "      <td>57.67</td>\n",
       "      <td>3.01</td>\n",
       "      <td>10.87</td>\n",
       "      <td>47.07</td>\n",
       "      <td>49.75</td>\n",
       "      <td>...</td>\n",
       "      <td>0.92</td>\n",
       "      <td>0.09</td>\n",
       "      <td>6.04</td>\n",
       "      <td>-10.45</td>\n",
       "      <td>1.829101e+07</td>\n",
       "      <td>15.76</td>\n",
       "      <td>1.93</td>\n",
       "      <td>-0.43</td>\n",
       "      <td>2.601773e+11</td>\n",
       "      <td>FINANCEIRO E OUTROS</td>\n",
       "    </tr>\n",
       "    <tr>\n",
       "      <th>ITUB4</th>\n",
       "      <td>28.15</td>\n",
       "      <td>1.75</td>\n",
       "      <td>14.62</td>\n",
       "      <td>1.79</td>\n",
       "      <td>0.14</td>\n",
       "      <td>57.67</td>\n",
       "      <td>3.01</td>\n",
       "      <td>10.87</td>\n",
       "      <td>52.83</td>\n",
       "      <td>49.75</td>\n",
       "      <td>...</td>\n",
       "      <td>0.92</td>\n",
       "      <td>0.09</td>\n",
       "      <td>6.04</td>\n",
       "      <td>-10.45</td>\n",
       "      <td>1.228675e+09</td>\n",
       "      <td>15.76</td>\n",
       "      <td>1.93</td>\n",
       "      <td>-0.48</td>\n",
       "      <td>2.601773e+11</td>\n",
       "      <td>FINANCEIRO E OUTROS</td>\n",
       "    </tr>\n",
       "  </tbody>\n",
       "</table>\n",
       "<p>7 rows × 30 columns</p>\n",
       "</div>"
      ],
      "text/plain": [
       "        PRECO    DY    P/L  P/VP  P/ATIVOS  MARGEM BRUTA  MARGEM EBIT  \\\n",
       "TICKER                                                                  \n",
       "BAZA3   41.99  8.54   3.68  0.54      0.06         37.85        49.19   \n",
       "BEES3    4.95  4.20   6.75  0.91      0.05         50.63        23.67   \n",
       "BEES4    5.81  3.58   7.92  1.07      0.06         50.63        23.67   \n",
       "BMGB4    5.15  3.45   7.75  0.75      0.12         72.00         3.27   \n",
       "BNBR3   67.01  4.02   5.68  0.94      0.09         57.57        40.13   \n",
       "ITUB3   25.10  1.97  13.03  1.59      0.12         57.67         3.01   \n",
       "ITUB4   28.15  1.75  14.62  1.79      0.14         57.67         3.01   \n",
       "\n",
       "        MARG LIQUIDA  P/EBIT  EV/EBIT  ...  PASSIVOS/ATIVOS  GIRO ATIVOS  \\\n",
       "TICKER                                 ...                                 \n",
       "BAZA3          28.25    2.11     2.08  ...             0.89         0.06   \n",
       "BEES3          14.58    4.16     4.35  ...             0.94         0.05   \n",
       "BEES4          14.58    4.88     4.35  ...             0.94         0.05   \n",
       "BMGB4          10.15   24.06    24.06  ...             0.84         0.16   \n",
       "BNBR3          25.83    3.65     3.65  ...             0.90         0.06   \n",
       "ITUB3          10.87   47.07    49.75  ...             0.92         0.09   \n",
       "ITUB4          10.87   52.83    49.75  ...             0.92         0.09   \n",
       "\n",
       "        CAGR RECEITAS 5 ANOS  CAGR LUCROS 5 ANOS  LIQUIDEZ MEDIA DIARIA  \\\n",
       "TICKER                                                                    \n",
       "BAZA3                   6.35                8.48           4.826900e+04   \n",
       "BEES3                  -6.61                8.19           2.227655e+05   \n",
       "BEES4                  -6.61                8.19           1.866018e+04   \n",
       "BMGB4                    NaN                 NaN           9.092658e+06   \n",
       "BNBR3                  -9.48               27.23           3.130624e+04   \n",
       "ITUB3                   6.04              -10.45           1.829101e+07   \n",
       "ITUB4                   6.04              -10.45           1.228675e+09   \n",
       "\n",
       "          VPA    LPA  PEG Ratio  VALOR DE MERCADO                SETOR  \n",
       "TICKER                                                                  \n",
       "BAZA3   77.52  11.42       0.04      1.227343e+09  FINANCEIRO E OUTROS  \n",
       "BEES3    5.43   0.73       0.87      1.636511e+09  FINANCEIRO E OUTROS  \n",
       "BEES4    5.43   0.73       1.03      1.636511e+09  FINANCEIRO E OUTROS  \n",
       "BMGB4    6.91   0.67       0.20      3.063838e+09  FINANCEIRO E OUTROS  \n",
       "BNBR3   71.46  11.80      -0.14      5.787752e+09  FINANCEIRO E OUTROS  \n",
       "ITUB3   15.76   1.93      -0.43      2.601773e+11  FINANCEIRO E OUTROS  \n",
       "ITUB4   15.76   1.93      -0.48      2.601773e+11  FINANCEIRO E OUTROS  \n",
       "\n",
       "[7 rows x 30 columns]"
      ]
     },
     "execution_count": 21,
     "metadata": {},
     "output_type": "execute_result"
    }
   ],
   "source": [
    "X[X['LIQ CORRENTE'].isna()]"
   ]
  },
  {
   "cell_type": "code",
   "execution_count": 22,
   "id": "fifth-formula",
   "metadata": {},
   "outputs": [
    {
     "name": "stdout",
     "output_type": "stream",
     "text": [
      "FINANCEIRO E OUTROS                49\n",
      "CONSUMO CÍCLICO                    18\n",
      "BENS INDUSTRIAIS                   17\n",
      "MATERIAIS BÁSICOS                  10\n",
      "UTILIDADE PÚBLICA                   5\n",
      "CONSUMO NÃO CÍCLICO                 4\n",
      "PETRÓLEO. GÁS E BIOCOMBUSTÍVEIS     3\n",
      "SAÚDE                               1\n",
      "COMUNICAÇÕES                        0\n",
      "TECNOLOGIA DA INFORMAÇÃO            0\n",
      "Name: SETOR, dtype: int64\n"
     ]
    },
    {
     "data": {
      "text/plain": [
       "Index(['ABCB4', 'ADHM3', 'AZEV3', 'AZEV4', 'AZUL4', 'BAZA3', 'BBAS3', 'BBDC3',\n",
       "       'BBDC4', 'BBRK3',\n",
       "       ...\n",
       "       'SNSY3', 'SNSY5', 'SNSY6', 'TASA3', 'TASA4', 'TEKA3', 'TEKA4', 'TXRX3',\n",
       "       'TXRX4', 'VIVR3'],\n",
       "      dtype='object', name='TICKER', length=107)"
      ]
     },
     "execution_count": 22,
     "metadata": {},
     "output_type": "execute_result"
    }
   ],
   "source": [
    "print(X[X['DIV LIQ/PATRI'].isna()]['SETOR'].value_counts())\n",
    "X[X['DIV LIQ/PATRI'].isna()]['SETOR'].index"
   ]
  },
  {
   "cell_type": "code",
   "execution_count": 23,
   "id": "surgical-certification",
   "metadata": {},
   "outputs": [
    {
     "name": "stdout",
     "output_type": "stream",
     "text": [
      "CPU times: user 185 ms, sys: 62.9 ms, total: 248 ms\n",
      "Wall time: 25.1 s\n"
     ]
    }
   ],
   "source": [
    "%%time\n",
    "with Pool() as pool:\n",
    "    args = [(ticker, list(row[row.isna()].index)) for ticker, row in list(X.iterrows())]\n",
    "    res = pool.starmap(get_missing_data, args)\n",
    "    tmp_missing = res\n",
    "\n",
    "tmp_missing = dict(zip([t for t in X.index], tmp_missing))"
   ]
  },
  {
   "cell_type": "code",
   "execution_count": 24,
   "id": "offshore-surface",
   "metadata": {},
   "outputs": [
    {
     "data": {
      "text/plain": [
       "{'AALR3': {'CAGR LUCROS 5 ANOS': nan},\n",
       " 'ABCB4': {'DIVIDA LIQUIDA/EBIT': nan, 'ROIC': 0.0},\n",
       " 'ABEV3': {},\n",
       " 'ADHM3': {'DY': nan,\n",
       "  'DIV LIQ/PATRI': -0.0,\n",
       "  'CAGR RECEITAS 5 ANOS': 43.5,\n",
       "  'CAGR LUCROS 5 ANOS': nan},\n",
       " 'AFLT3': {},\n",
       " 'AGRO3': {},\n",
       " 'AHEB3': {'DY': nan, 'CAGR LUCROS 5 ANOS': nan},\n",
       " 'AHEB5': {'DY': nan, 'CAGR LUCROS 5 ANOS': nan},\n",
       " 'AHEB6': {'DY': nan, 'CAGR LUCROS 5 ANOS': nan},\n",
       " 'ALPA3': {'DY': nan},\n",
       " 'ALPA4': {'DY': nan},\n",
       " 'ALSO3': {'DY': nan},\n",
       " 'ALUP11': {},\n",
       " 'ALUP3': {},\n",
       " 'ALUP4': {},\n",
       " 'AMAR3': {'DY': nan, 'CAGR LUCROS 5 ANOS': nan},\n",
       " 'ANIM3': {'DY': nan, 'CAGR LUCROS 5 ANOS': nan},\n",
       " 'APER3': {},\n",
       " 'ARZZ3': {},\n",
       " 'ATMP3': {'DY': nan, 'CAGR LUCROS 5 ANOS': nan},\n",
       " 'ATOM3': {'DY': nan, 'CAGR RECEITAS 5 ANOS': 96.6, 'CAGR LUCROS 5 ANOS': nan},\n",
       " 'AZEV3': {'DY': nan,\n",
       "  'DIV LIQ/PATRI': -0.11606169599416614,\n",
       "  'PSR': 0.0,\n",
       "  'CAGR LUCROS 5 ANOS': nan},\n",
       " 'AZEV4': {'DY': nan,\n",
       "  'DIV LIQ/PATRI': -0.11606169599416614,\n",
       "  'PSR': 0.0,\n",
       "  'CAGR LUCROS 5 ANOS': nan},\n",
       " 'AZUL4': {'DY': nan,\n",
       "  'DIV LIQ/PATRI': -0.29711919032002715,\n",
       "  'CAGR LUCROS 5 ANOS': nan},\n",
       " 'B3SA3': {},\n",
       " 'BAHI3': {'DY': nan, 'CAGR RECEITAS 5 ANOS': 73.0, 'CAGR LUCROS 5 ANOS': nan},\n",
       " 'BALM3': {},\n",
       " 'BALM4': {},\n",
       " 'BAUH4': {},\n",
       " 'BAZA3': {'DIVIDA LIQUIDA/EBIT': nan, 'LIQ CORRENTE': 0.0, 'ROIC': 0.0},\n",
       " 'BBAS3': {'DIVIDA LIQUIDA/EBIT': nan, 'ROIC': 0.0},\n",
       " 'BBDC3': {'DIVIDA LIQUIDA/EBIT': nan, 'ROIC': 0.0},\n",
       " 'BBDC4': {'DIVIDA LIQUIDA/EBIT': nan, 'ROIC': 0.0},\n",
       " 'BBRK3': {'DY': nan,\n",
       "  'DIV LIQ/PATRI': 0.8961777228076018,\n",
       "  'CAGR LUCROS 5 ANOS': nan},\n",
       " 'BBSE3': {'MARGEM BRUTA': nan,\n",
       "  'MARGEM EBIT': nan,\n",
       "  'MARG LIQUIDA': nan,\n",
       "  'DIVIDA LIQUIDA/EBIT': nan,\n",
       "  'DIV LIQ/PATRI': 0,\n",
       "  'PSR': 0.0,\n",
       "  'ROIC': 0.0,\n",
       "  'CAGR RECEITAS 5 ANOS': 0.0},\n",
       " 'BDLL3': {'DY': nan,\n",
       "  'DIV LIQ/PATRI': -1.5933199785275671,\n",
       "  'CAGR LUCROS 5 ANOS': nan},\n",
       " 'BDLL4': {'DY': nan,\n",
       "  'DIV LIQ/PATRI': -1.5933199785275671,\n",
       "  'CAGR LUCROS 5 ANOS': nan},\n",
       " 'BEEF3': {'CAGR LUCROS 5 ANOS': nan},\n",
       " 'BEES3': {'DIVIDA LIQUIDA/EBIT': nan, 'LIQ CORRENTE': 0.0, 'ROIC': 0.0},\n",
       " 'BEES4': {'DIVIDA LIQUIDA/EBIT': nan, 'LIQ CORRENTE': 0.0, 'ROIC': 0.0},\n",
       " 'BGIP3': {'DIVIDA LIQUIDA/EBIT': nan, 'ROIC': 0.0},\n",
       " 'BGIP4': {'DIVIDA LIQUIDA/EBIT': nan, 'ROIC': 0.0},\n",
       " 'BIDI11': {'DIVIDA LIQUIDA/EBIT': nan,\n",
       "  'ROIC': 0.0,\n",
       "  'CAGR LUCROS 5 ANOS': nan},\n",
       " 'BIDI3': {'DIVIDA LIQUIDA/EBIT': nan, 'ROIC': 0.0, 'CAGR LUCROS 5 ANOS': nan},\n",
       " 'BIDI4': {'DIVIDA LIQUIDA/EBIT': nan, 'ROIC': 0.0, 'CAGR LUCROS 5 ANOS': nan},\n",
       " 'BIOM3': {'DY': nan,\n",
       "  'CAGR RECEITAS 5 ANOS': 832.4,\n",
       "  'CAGR LUCROS 5 ANOS': nan},\n",
       " 'BKBR3': {'DY': nan, 'CAGR LUCROS 5 ANOS': nan},\n",
       " 'BMEB3': {'DIVIDA LIQUIDA/EBIT': nan, 'ROIC': 0.0},\n",
       " 'BMEB4': {'DIVIDA LIQUIDA/EBIT': nan, 'ROIC': 0.0},\n",
       " 'BMGB4': {'DIVIDA LIQUIDA/EBIT': nan,\n",
       "  'P/CAP GIRO': 0.0,\n",
       "  'LIQ CORRENTE': 0.0,\n",
       "  'ROIC': 0.0,\n",
       "  'CAGR RECEITAS 5 ANOS': 0.0,\n",
       "  'CAGR LUCROS 5 ANOS': nan},\n",
       " 'BMIN3': {'DY': nan, 'DIVIDA LIQUIDA/EBIT': nan, 'ROIC': 0.0},\n",
       " 'BMIN4': {'DIVIDA LIQUIDA/EBIT': nan, 'ROIC': 0.0},\n",
       " 'BMKS3': {},\n",
       " 'BNBR3': {'DIVIDA LIQUIDA/EBIT': nan, 'LIQ CORRENTE': 0.0, 'ROIC': 0.0},\n",
       " 'BOBR4': {'DY': nan,\n",
       "  'DIV LIQ/PATRI': -0.8771319034296964,\n",
       "  'CAGR LUCROS 5 ANOS': nan},\n",
       " 'BPAC11': {'DIVIDA LIQUIDA/EBIT': nan, 'ROIC': 0.0},\n",
       " 'BPAC3': {'DIVIDA LIQUIDA/EBIT': nan, 'ROIC': 0.0},\n",
       " 'BPAC5': {'DIVIDA LIQUIDA/EBIT': nan, 'ROIC': 0.0},\n",
       " 'BPAN4': {'DIVIDA LIQUIDA/EBIT': nan, 'ROIC': 0.0},\n",
       " 'BRAP3': {'MARGEM BRUTA': nan,\n",
       "  'MARGEM EBIT': nan,\n",
       "  'MARG LIQUIDA': nan,\n",
       "  'PSR': 0.0,\n",
       "  'CAGR RECEITAS 5 ANOS': 0.0,\n",
       "  'CAGR LUCROS 5 ANOS': nan},\n",
       " 'BRAP4': {'MARGEM BRUTA': nan,\n",
       "  'MARGEM EBIT': nan,\n",
       "  'MARG LIQUIDA': nan,\n",
       "  'PSR': 0.0,\n",
       "  'CAGR RECEITAS 5 ANOS': 0.0,\n",
       "  'CAGR LUCROS 5 ANOS': nan},\n",
       " 'BRDT3': {'CAGR LUCROS 5 ANOS': nan},\n",
       " 'BRFS3': {'DY': nan},\n",
       " 'BRGE11': {},\n",
       " 'BRGE12': {'DY': nan},\n",
       " 'BRGE3': {'DY': nan},\n",
       " 'BRGE5': {},\n",
       " 'BRGE6': {},\n",
       " 'BRGE8': {},\n",
       " 'BRIV3': {'DIVIDA LIQUIDA/EBIT': nan, 'ROIC': 0.0},\n",
       " 'BRIV4': {'DIVIDA LIQUIDA/EBIT': nan, 'ROIC': 0.0},\n",
       " 'BRKM3': {'DY': nan,\n",
       "  'DIV LIQ/PATRI': -11.090037279038828,\n",
       "  'CAGR LUCROS 5 ANOS': nan},\n",
       " 'BRKM5': {'DY': nan,\n",
       "  'DIV LIQ/PATRI': -11.090037279038828,\n",
       "  'CAGR LUCROS 5 ANOS': nan},\n",
       " 'BRKM6': {'DY': nan,\n",
       "  'DIV LIQ/PATRI': -11.090037279038828,\n",
       "  'CAGR LUCROS 5 ANOS': nan},\n",
       " 'BRML3': {'DY': nan, 'CAGR LUCROS 5 ANOS': nan},\n",
       " 'BRPR3': {'CAGR LUCROS 5 ANOS': nan},\n",
       " 'BRSR3': {'DIVIDA LIQUIDA/EBIT': nan, 'ROIC': 0.0},\n",
       " 'BRSR5': {'DIVIDA LIQUIDA/EBIT': nan, 'ROIC': 0.0},\n",
       " 'BRSR6': {'DIVIDA LIQUIDA/EBIT': nan, 'ROIC': 0.0},\n",
       " 'BSEV3': {'DY': nan,\n",
       "  'DIV LIQ/PATRI': -13.251793847685164,\n",
       "  'CAGR LUCROS 5 ANOS': nan},\n",
       " 'BSLI3': {'DIVIDA LIQUIDA/EBIT': nan, 'ROIC': 0.0},\n",
       " 'BSLI4': {'DIVIDA LIQUIDA/EBIT': nan, 'ROIC': 0.0},\n",
       " 'BTOW3': {'DY': nan, 'CAGR LUCROS 5 ANOS': nan},\n",
       " 'BTTL3': {'DY': nan, 'CAGR LUCROS 5 ANOS': nan},\n",
       " 'CALI4': {'DY': nan},\n",
       " 'CAMB3': {'DY': nan, 'CAGR LUCROS 5 ANOS': nan},\n",
       " 'CAML3': {},\n",
       " 'CARD3': {},\n",
       " 'CASN3': {},\n",
       " 'CBEE3': {'CAGR LUCROS 5 ANOS': nan},\n",
       " 'CCPR3': {},\n",
       " 'CCRO3': {},\n",
       " 'CEAB3': {'DY': nan,\n",
       "  'CAGR RECEITAS 5 ANOS': -11.1,\n",
       "  'CAGR LUCROS 5 ANOS': nan},\n",
       " 'CEBR3': {'CAGR LUCROS 5 ANOS': nan},\n",
       " 'CEBR5': {'CAGR LUCROS 5 ANOS': nan},\n",
       " 'CEBR6': {'CAGR LUCROS 5 ANOS': nan},\n",
       " 'CEDO3': {'DY': nan, 'CAGR LUCROS 5 ANOS': nan},\n",
       " 'CEDO4': {'DY': nan, 'CAGR LUCROS 5 ANOS': nan},\n",
       " 'CEEB3': {},\n",
       " 'CEEB5': {},\n",
       " 'CEED3': {'DY': nan,\n",
       "  'DIV LIQ/PATRI': -0.17521296805856057,\n",
       "  'CAGR LUCROS 5 ANOS': nan},\n",
       " 'CEED4': {'DY': nan,\n",
       "  'DIV LIQ/PATRI': -0.17521296805856057,\n",
       "  'CAGR LUCROS 5 ANOS': nan},\n",
       " 'CEGR3': {},\n",
       " 'CEPE3': {},\n",
       " 'CEPE5': {},\n",
       " 'CEPE6': {},\n",
       " 'CESP3': {'CAGR LUCROS 5 ANOS': nan},\n",
       " 'CESP5': {'CAGR LUCROS 5 ANOS': nan},\n",
       " 'CESP6': {'CAGR LUCROS 5 ANOS': nan},\n",
       " 'CGAS3': {},\n",
       " 'CGAS5': {},\n",
       " 'CGRA3': {},\n",
       " 'CGRA4': {},\n",
       " 'CIEL3': {'CAGR LUCROS 5 ANOS': nan},\n",
       " 'CLSC3': {},\n",
       " 'CLSC4': {},\n",
       " 'CMIG3': {},\n",
       " 'CMIG4': {},\n",
       " 'CNTO3': {'DY': nan, 'CAGR RECEITAS 5 ANOS': 0.0, 'CAGR LUCROS 5 ANOS': nan},\n",
       " 'COCE3': {},\n",
       " 'COCE5': {},\n",
       " 'COGN3': {'DY': nan},\n",
       " 'CPFE3': {},\n",
       " 'CPLE3': {},\n",
       " 'CPLE5': {},\n",
       " 'CPLE6': {},\n",
       " 'CRDE3': {'DY': nan, 'CAGR LUCROS 5 ANOS': nan},\n",
       " 'CRFB3': {},\n",
       " 'CRIV3': {'DY': nan, 'DIVIDA LIQUIDA/EBIT': nan, 'ROIC': 0.0},\n",
       " 'CRIV4': {'DIVIDA LIQUIDA/EBIT': nan, 'ROIC': 0.0},\n",
       " 'CRPG3': {'CAGR LUCROS 5 ANOS': nan},\n",
       " 'CRPG5': {'CAGR LUCROS 5 ANOS': nan},\n",
       " 'CRPG6': {'CAGR LUCROS 5 ANOS': nan},\n",
       " 'CSAB3': {'DIVIDA LIQUIDA/EBIT': nan, 'DIV LIQ/PATRI': 0, 'ROIC': 0.0},\n",
       " 'CSAB4': {'DIVIDA LIQUIDA/EBIT': nan, 'DIV LIQ/PATRI': 0, 'ROIC': 0.0},\n",
       " 'CSAN3': {},\n",
       " 'CSMG3': {'CAGR LUCROS 5 ANOS': nan},\n",
       " 'CSNA3': {'CAGR LUCROS 5 ANOS': nan},\n",
       " 'CSRN3': {},\n",
       " 'CSRN5': {},\n",
       " 'CSRN6': {},\n",
       " 'CTKA3': {'DY': nan,\n",
       "  'DIV LIQ/PATRI': -2.3787378722938226,\n",
       "  'CAGR LUCROS 5 ANOS': nan},\n",
       " 'CTKA4': {'DY': nan,\n",
       "  'DIV LIQ/PATRI': -2.3787378722938226,\n",
       "  'CAGR LUCROS 5 ANOS': nan},\n",
       " 'CTNM3': {'DY': nan, 'CAGR LUCROS 5 ANOS': nan},\n",
       " 'CTNM4': {'DY': nan, 'CAGR LUCROS 5 ANOS': nan},\n",
       " 'CTSA3': {},\n",
       " 'CTSA4': {},\n",
       " 'CVCB3': {'DY': nan, 'DIV LIQ/PATRI': -1.0599450200378777},\n",
       " 'CYRE3': {},\n",
       " 'DASA3': {'CAGR LUCROS 5 ANOS': nan},\n",
       " 'DIRR3': {},\n",
       " 'DMMO3': {'DY': nan,\n",
       "  'DIV LIQ/PATRI': 0.06742633727115653,\n",
       "  'CAGR LUCROS 5 ANOS': nan},\n",
       " 'DOHL3': {},\n",
       " 'DOHL4': {},\n",
       " 'DTCY3': {'DY': nan, 'CAGR LUCROS 5 ANOS': nan},\n",
       " 'DTEX3': {},\n",
       " 'EALT3': {},\n",
       " 'EALT4': {},\n",
       " 'ECOR3': {'DY': nan, 'CAGR LUCROS 5 ANOS': nan},\n",
       " 'ECPR3': {'DY': nan,\n",
       "  'MARGEM BRUTA': nan,\n",
       "  'MARGEM EBIT': nan,\n",
       "  'MARG LIQUIDA': nan,\n",
       "  'PSR': 0.0,\n",
       "  'CAGR RECEITAS 5 ANOS': 0.0,\n",
       "  'CAGR LUCROS 5 ANOS': nan},\n",
       " 'ECPR4': {'DY': nan,\n",
       "  'MARGEM BRUTA': nan,\n",
       "  'MARGEM EBIT': nan,\n",
       "  'MARG LIQUIDA': nan,\n",
       "  'PSR': 0.0,\n",
       "  'CAGR RECEITAS 5 ANOS': 0.0,\n",
       "  'CAGR LUCROS 5 ANOS': nan},\n",
       " 'EEEL3': {'CAGR LUCROS 5 ANOS': nan},\n",
       " 'EEEL4': {'CAGR LUCROS 5 ANOS': nan},\n",
       " 'EGIE3': {},\n",
       " 'EKTR3': {},\n",
       " 'EKTR4': {},\n",
       " 'ELET3': {'CAGR LUCROS 5 ANOS': nan},\n",
       " 'ELET5': {'CAGR LUCROS 5 ANOS': nan},\n",
       " 'ELET6': {'CAGR LUCROS 5 ANOS': nan},\n",
       " 'EMAE4': {'CAGR LUCROS 5 ANOS': nan},\n",
       " 'EMBR3': {'DY': nan, 'CAGR LUCROS 5 ANOS': nan},\n",
       " 'ENAT3': {},\n",
       " 'ENBR3': {},\n",
       " 'ENEV3': {'DY': nan},\n",
       " 'ENGI11': {},\n",
       " 'ENGI3': {},\n",
       " 'ENGI4': {},\n",
       " 'ENMT3': {'DY': nan},\n",
       " 'ENMT4': {},\n",
       " 'EQPA3': {},\n",
       " 'EQPA5': {},\n",
       " 'EQPA6': {},\n",
       " 'EQPA7': {},\n",
       " 'EQTL3': {},\n",
       " 'ESTR4': {'DY': nan,\n",
       "  'DIV LIQ/PATRI': -0.11682094955977948,\n",
       "  'CAGR LUCROS 5 ANOS': nan},\n",
       " 'ETER3': {'DY': nan},\n",
       " 'EUCA3': {},\n",
       " 'EUCA4': {},\n",
       " 'EVEN3': {},\n",
       " 'EZTC3': {},\n",
       " 'FESA3': {},\n",
       " 'FESA4': {},\n",
       " 'FHER3': {'DY': nan, 'DIV LIQ/PATRI': -1.4240723311079357},\n",
       " 'FLRY3': {},\n",
       " 'FRAS3': {},\n",
       " 'FRIO3': {'DY': nan, 'CAGR LUCROS 5 ANOS': nan},\n",
       " 'FRTA3': {'DY': nan,\n",
       "  'DIV LIQ/PATRI': -0.9376579742309352,\n",
       "  'CAGR LUCROS 5 ANOS': nan},\n",
       " 'GEPA3': {},\n",
       " 'GEPA4': {},\n",
       " 'GFSA3': {'DY': nan, 'CAGR LUCROS 5 ANOS': nan},\n",
       " 'GGBR3': {'CAGR LUCROS 5 ANOS': nan},\n",
       " 'GGBR4': {'CAGR LUCROS 5 ANOS': nan},\n",
       " 'GNDI3': {},\n",
       " 'GOAU3': {'CAGR LUCROS 5 ANOS': nan},\n",
       " 'GOAU4': {'CAGR LUCROS 5 ANOS': nan},\n",
       " 'GOLL4': {'DY': nan,\n",
       "  'DIV LIQ/PATRI': -0.6028826064926321,\n",
       "  'CAGR LUCROS 5 ANOS': nan},\n",
       " 'GPAR3': {'DY': nan, 'CAGR LUCROS 5 ANOS': nan},\n",
       " 'GPCP3': {'CAGR LUCROS 5 ANOS': nan},\n",
       " 'GPIV33': {'DY': nan, 'PSR': -0.84},\n",
       " 'GRND3': {},\n",
       " 'GSHP3': {'DY': nan,\n",
       "  'DIV LIQ/PATRI': -2.7407674299072604,\n",
       "  'CAGR LUCROS 5 ANOS': nan},\n",
       " 'GUAR3': {'CAGR LUCROS 5 ANOS': nan},\n",
       " 'HAGA3': {'DY': nan, 'DIV LIQ/PATRI': -0.049993452789373616},\n",
       " 'HAGA4': {'DY': nan, 'DIV LIQ/PATRI': -0.049993452789373616},\n",
       " 'HAPV3': {'CAGR RECEITAS 5 ANOS': 29.8, 'CAGR LUCROS 5 ANOS': nan},\n",
       " 'HBOR3': {'DY': nan},\n",
       " 'HBTS5': {'CAGR RECEITAS 5 ANOS': 4.3, 'CAGR LUCROS 5 ANOS': nan},\n",
       " 'HETA4': {'DY': nan, 'DIV LIQ/PATRI': -0.848263263668746},\n",
       " 'HGTX3': {},\n",
       " 'HOOT4': {'DY': nan,\n",
       "  'DIV LIQ/PATRI': 0.008363045302013422,\n",
       "  'CAGR LUCROS 5 ANOS': nan},\n",
       " 'HYPE3': {},\n",
       " 'IGBR3': {'DY': nan,\n",
       "  'DIV LIQ/PATRI': -0.9787566628995034,\n",
       "  'CAGR LUCROS 5 ANOS': nan},\n",
       " 'IGTA3': {},\n",
       " 'INEP3': {'DY': nan,\n",
       "  'DIV LIQ/PATRI': -0.33895225109860244,\n",
       "  'CAGR LUCROS 5 ANOS': nan},\n",
       " 'INEP4': {'DY': nan,\n",
       "  'DIV LIQ/PATRI': -0.33895225109860244,\n",
       "  'CAGR LUCROS 5 ANOS': nan},\n",
       " 'IRBR3': {'DIVIDA LIQUIDA/EBIT': nan,\n",
       "  'DIV LIQ/PATRI': 0,\n",
       "  'ROIC': 0.0,\n",
       "  'CAGR LUCROS 5 ANOS': nan},\n",
       " 'ITSA3': {},\n",
       " 'ITSA4': {},\n",
       " 'ITUB3': {'DIVIDA LIQUIDA/EBIT': nan,\n",
       "  'P/CAP GIRO': 0.0,\n",
       "  'LIQ CORRENTE': 0.0,\n",
       "  'ROIC': 0.0},\n",
       " 'ITUB4': {'DIVIDA LIQUIDA/EBIT': nan,\n",
       "  'P/CAP GIRO': 0.0,\n",
       "  'LIQ CORRENTE': 0.0,\n",
       "  'ROIC': 0.0},\n",
       " 'JBDU3': {'DY': nan,\n",
       "  'MARGEM BRUTA': nan,\n",
       "  'MARGEM EBIT': nan,\n",
       "  'MARG LIQUIDA': nan,\n",
       "  'PSR': 0.0,\n",
       "  'CAGR RECEITAS 5 ANOS': 0.0,\n",
       "  'CAGR LUCROS 5 ANOS': nan},\n",
       " 'JBDU4': {'DY': nan,\n",
       "  'MARGEM BRUTA': nan,\n",
       "  'MARGEM EBIT': nan,\n",
       "  'MARG LIQUIDA': nan,\n",
       "  'PSR': 0.0,\n",
       "  'CAGR RECEITAS 5 ANOS': 0.0,\n",
       "  'CAGR LUCROS 5 ANOS': nan},\n",
       " 'JBSS3': {},\n",
       " 'JFEN3': {'DY': nan,\n",
       "  'DIV LIQ/PATRI': -2.0263130115343744,\n",
       "  'CAGR LUCROS 5 ANOS': nan},\n",
       " 'JHSF3': {},\n",
       " 'JOPA3': {},\n",
       " 'JOPA4': {},\n",
       " 'JPSA3': {'CAGR LUCROS 5 ANOS': nan},\n",
       " 'KEPL3': {},\n",
       " 'KLBN11': {'DY': nan, 'CAGR LUCROS 5 ANOS': nan},\n",
       " 'KLBN3': {'DY': nan, 'CAGR LUCROS 5 ANOS': nan},\n",
       " 'KLBN4': {'DY': nan, 'CAGR LUCROS 5 ANOS': nan},\n",
       " 'LAME3': {},\n",
       " 'LAME4': {},\n",
       " 'LCAM3': {},\n",
       " 'LEVE3': {},\n",
       " 'LIGT3': {'DY': nan},\n",
       " 'LINX3': {},\n",
       " 'LIPR3': {'DY': nan,\n",
       "  'MARGEM BRUTA': nan,\n",
       "  'MARGEM EBIT': nan,\n",
       "  'MARG LIQUIDA': nan,\n",
       "  'PSR': 0.0,\n",
       "  'CAGR RECEITAS 5 ANOS': 0.0,\n",
       "  'CAGR LUCROS 5 ANOS': nan},\n",
       " 'LLIS3': {'DY': nan, 'CAGR LUCROS 5 ANOS': nan},\n",
       " 'LOGG3': {},\n",
       " 'LOGN3': {'DY': nan, 'CAGR LUCROS 5 ANOS': nan},\n",
       " 'LPSB3': {'DY': nan, 'CAGR LUCROS 5 ANOS': nan},\n",
       " 'LREN3': {},\n",
       " 'LUPA3': {'DY': nan, 'PSR': -5.65, 'CAGR LUCROS 5 ANOS': nan},\n",
       " 'LUXM4': {},\n",
       " 'LWSA3': {'CAGR RECEITAS 5 ANOS': 0.0, 'CAGR LUCROS 5 ANOS': nan},\n",
       " 'MAPT3': {'DY': nan,\n",
       "  'MARGEM BRUTA': nan,\n",
       "  'MARGEM EBIT': nan,\n",
       "  'MARG LIQUIDA': nan,\n",
       "  'DIV LIQ/PATRI': -0.0,\n",
       "  'PSR': 0.0,\n",
       "  'CAGR RECEITAS 5 ANOS': 0.0,\n",
       "  'CAGR LUCROS 5 ANOS': nan},\n",
       " 'MAPT4': {'DY': nan,\n",
       "  'MARGEM BRUTA': nan,\n",
       "  'MARGEM EBIT': nan,\n",
       "  'MARG LIQUIDA': nan,\n",
       "  'DIV LIQ/PATRI': -0.0,\n",
       "  'PSR': 0.0,\n",
       "  'CAGR RECEITAS 5 ANOS': 0.0,\n",
       "  'CAGR LUCROS 5 ANOS': nan},\n",
       " 'MDIA3': {},\n",
       " 'MDNE3': {'DY': nan, 'CAGR LUCROS 5 ANOS': nan},\n",
       " 'MEAL3': {'DY': nan, 'CAGR LUCROS 5 ANOS': nan},\n",
       " 'MERC3': {'DY': nan,\n",
       "  'DIVIDA LIQUIDA/EBIT': nan,\n",
       "  'ROIC': 0.0,\n",
       "  'CAGR LUCROS 5 ANOS': nan},\n",
       " 'MERC4': {'DY': nan,\n",
       "  'DIVIDA LIQUIDA/EBIT': nan,\n",
       "  'ROIC': 0.0,\n",
       "  'CAGR LUCROS 5 ANOS': nan},\n",
       " 'MGEL4': {'DY': nan,\n",
       "  'DIV LIQ/PATRI': -1.3447669049669526,\n",
       "  'CAGR LUCROS 5 ANOS': nan},\n",
       " 'MGLU3': {'CAGR LUCROS 5 ANOS': nan},\n",
       " 'MILS3': {'DY': nan, 'CAGR LUCROS 5 ANOS': nan},\n",
       " 'MMXM3': {'DY': nan,\n",
       "  'DIV LIQ/PATRI': -0.3201887844750556,\n",
       "  'CAGR LUCROS 5 ANOS': nan},\n",
       " 'MNDL3': {'DY': nan,\n",
       "  'DIV LIQ/PATRI': -0.9306452026023257,\n",
       "  'CAGR LUCROS 5 ANOS': nan},\n",
       " 'MNPR3': {'DY': nan,\n",
       "  'DIV LIQ/PATRI': -0.0006920903571457651,\n",
       "  'CAGR LUCROS 5 ANOS': nan},\n",
       " 'MOAR3': {},\n",
       " 'MOVI3': {},\n",
       " 'MRFG3': {'DY': nan, 'CAGR LUCROS 5 ANOS': nan},\n",
       " 'MRSA3B': {},\n",
       " 'MRSA5B': {},\n",
       " 'MRSA6B': {},\n",
       " 'MRVE3': {},\n",
       " 'MSPA3': {'DY': nan, 'CAGR LUCROS 5 ANOS': nan},\n",
       " 'MSPA4': {'DY': nan, 'CAGR LUCROS 5 ANOS': nan},\n",
       " 'MTIG4': {'DY': nan, 'CAGR LUCROS 5 ANOS': nan},\n",
       " 'MTRE3': {'DY': nan, 'CAGR RECEITAS 5 ANOS': 65.4, 'CAGR LUCROS 5 ANOS': nan},\n",
       " 'MTSA4': {},\n",
       " 'MULT3': {},\n",
       " 'MWET3': {'DY': nan,\n",
       "  'DIV LIQ/PATRI': -0.2458396245441711,\n",
       "  'CAGR LUCROS 5 ANOS': nan},\n",
       " 'MWET4': {'DY': nan,\n",
       "  'DIV LIQ/PATRI': -0.2458396245441711,\n",
       "  'CAGR LUCROS 5 ANOS': nan},\n",
       " 'MYPK3': {'DY': nan, 'CAGR LUCROS 5 ANOS': nan},\n",
       " 'NEOE3': {},\n",
       " 'NORD3': {'DY': nan,\n",
       "  'DIV LIQ/PATRI': -0.264766643077209,\n",
       "  'CAGR RECEITAS 5 ANOS': 56.2,\n",
       "  'CAGR LUCROS 5 ANOS': nan},\n",
       " 'NTCO3': {'DY': nan, 'CAGR LUCROS 5 ANOS': nan},\n",
       " 'NUTR3': {'DY': nan, 'CAGR LUCROS 5 ANOS': nan},\n",
       " 'ODER4': {},\n",
       " 'ODPV3': {},\n",
       " 'OFSA3': {},\n",
       " 'OIBR3': {'DY': nan, 'CAGR LUCROS 5 ANOS': nan},\n",
       " 'OIBR4': {'DY': nan, 'CAGR LUCROS 5 ANOS': nan},\n",
       " 'OMGE3': {'DY': nan},\n",
       " 'OSXB3': {'DY': nan,\n",
       "  'DIV LIQ/PATRI': -0.9249040396705189,\n",
       "  'CAGR LUCROS 5 ANOS': nan},\n",
       " 'PARD3': {},\n",
       " 'PATI3': {},\n",
       " 'PATI4': {},\n",
       " 'PCAR3': {'CAGR LUCROS 5 ANOS': nan},\n",
       " 'PDGR3': {'DY': nan,\n",
       "  'DIV LIQ/PATRI': -0.29535947979259997,\n",
       "  'CAGR LUCROS 5 ANOS': nan},\n",
       " 'PEAB3': {},\n",
       " 'PEAB4': {},\n",
       " 'PETR3': {'CAGR LUCROS 5 ANOS': nan},\n",
       " 'PETR4': {'CAGR LUCROS 5 ANOS': nan},\n",
       " 'PFRM3': {'DY': nan, 'CAGR LUCROS 5 ANOS': nan},\n",
       " 'PINE4': {'DY': nan,\n",
       "  'DIVIDA LIQUIDA/EBIT': nan,\n",
       "  'ROIC': 0.0,\n",
       "  'CAGR LUCROS 5 ANOS': nan},\n",
       " 'PLAS3': {'DY': nan,\n",
       "  'DIV LIQ/PATRI': -0.7933155758498224,\n",
       "  'CAGR LUCROS 5 ANOS': nan},\n",
       " 'PMAM3': {'DY': nan,\n",
       "  'DIV LIQ/PATRI': -13.701646608590563,\n",
       "  'CAGR LUCROS 5 ANOS': nan},\n",
       " 'PNVL3': {},\n",
       " 'PNVL4': {},\n",
       " 'POMO3': {},\n",
       " 'POMO4': {},\n",
       " 'POSI3': {'CAGR LUCROS 5 ANOS': nan},\n",
       " 'PPLA11': {},\n",
       " 'PRIO3': {'DY': nan},\n",
       " 'PRNR3': {'DY': nan, 'CAGR RECEITAS 5 ANOS': -7.9, 'CAGR LUCROS 5 ANOS': nan},\n",
       " 'PSSA3': {},\n",
       " 'PTBL3': {},\n",
       " 'PTNT3': {'DY': nan},\n",
       " 'PTNT4': {'DY': nan},\n",
       " 'QUAL3': {},\n",
       " 'RADL3': {},\n",
       " 'RAIL3': {'DY': nan, 'CAGR LUCROS 5 ANOS': nan},\n",
       " 'RANI3': {},\n",
       " 'RAPT3': {'CAGR LUCROS 5 ANOS': nan},\n",
       " 'RAPT4': {'CAGR LUCROS 5 ANOS': nan},\n",
       " 'RCSL3': {},\n",
       " 'RCSL4': {'DY': nan,\n",
       "  'DIV LIQ/PATRI': 0.01724164591999258,\n",
       "  'CAGR LUCROS 5 ANOS': nan},\n",
       " 'RDNI3': {},\n",
       " 'REDE3': {},\n",
       " 'RENT3': {},\n",
       " 'RNEW11': {'DY': nan,\n",
       "  'DIV LIQ/PATRI': -1.1891065732112591,\n",
       "  'CAGR LUCROS 5 ANOS': nan},\n",
       " 'RNEW3': {'DY': nan,\n",
       "  'DIV LIQ/PATRI': -1.1891065732112591,\n",
       "  'CAGR LUCROS 5 ANOS': nan},\n",
       " 'RNEW4': {'DY': nan,\n",
       "  'DIV LIQ/PATRI': -1.1891065732112591,\n",
       "  'CAGR LUCROS 5 ANOS': nan},\n",
       " 'ROMI3': {},\n",
       " 'RPAD3': {'DY': nan},\n",
       " 'RPAD5': {},\n",
       " 'RPAD6': {'DY': nan},\n",
       " 'RPMG3': {'DY': nan,\n",
       "  'DIV LIQ/PATRI': 6.174925900889189e-06,\n",
       "  'CAGR LUCROS 5 ANOS': nan},\n",
       " 'RSID3': {'DY': nan,\n",
       "  'DIV LIQ/PATRI': -1.5569573283858997,\n",
       "  'CAGR LUCROS 5 ANOS': nan},\n",
       " 'RSUL4': {'DY': nan},\n",
       " 'SANB11': {'DIVIDA LIQUIDA/EBIT': nan, 'ROIC': 0.0},\n",
       " 'SANB3': {'DIVIDA LIQUIDA/EBIT': nan, 'ROIC': 0.0},\n",
       " 'SANB4': {'DIVIDA LIQUIDA/EBIT': nan, 'ROIC': 0.0},\n",
       " 'SAPR11': {},\n",
       " 'SAPR3': {},\n",
       " 'SAPR4': {},\n",
       " 'SBSP3': {},\n",
       " 'SCAR3': {},\n",
       " 'SEER3': {},\n",
       " 'SGPS3': {'DY': nan, 'CAGR LUCROS 5 ANOS': nan},\n",
       " 'SHOW3': {'DY': nan, 'CAGR LUCROS 5 ANOS': nan},\n",
       " 'SHUL4': {},\n",
       " 'SLCE3': {},\n",
       " 'SLED3': {'DY': nan,\n",
       "  'DIV LIQ/PATRI': -0.729082524215667,\n",
       "  'CAGR LUCROS 5 ANOS': nan},\n",
       " 'SLED4': {'DY': nan,\n",
       "  'DIV LIQ/PATRI': -0.729082524215667,\n",
       "  'CAGR LUCROS 5 ANOS': nan},\n",
       " 'SMLS3': {'CAGR RECEITAS 5 ANOS': -12.7, 'CAGR LUCROS 5 ANOS': nan},\n",
       " 'SMTO3': {},\n",
       " 'SNSY3': {},\n",
       " 'SNSY5': {'DY': nan,\n",
       "  'DIV LIQ/PATRI': -0.07681208406567819,\n",
       "  'CAGR LUCROS 5 ANOS': nan},\n",
       " 'SNSY6': {},\n",
       " 'SOND5': {},\n",
       " 'SOND6': {},\n",
       " 'SQIA3': {'DY': nan},\n",
       " 'STBP3': {'CAGR LUCROS 5 ANOS': nan},\n",
       " 'SULA11': {},\n",
       " 'SULA3': {},\n",
       " 'SULA4': {},\n",
       " 'SUZB3': {'DY': nan, 'CAGR LUCROS 5 ANOS': nan},\n",
       " 'TAEE11': {},\n",
       " 'TAEE3': {},\n",
       " 'TAEE4': {},\n",
       " 'TASA3': {'DY': nan,\n",
       "  'DIV LIQ/PATRI': 15.973361092053278,\n",
       "  'CAGR LUCROS 5 ANOS': nan},\n",
       " 'TASA4': {'DY': nan,\n",
       "  'DIV LIQ/PATRI': 15.973361092053278,\n",
       "  'CAGR LUCROS 5 ANOS': nan},\n",
       " 'TCNO3': {'DY': nan,\n",
       "  'MARGEM BRUTA': nan,\n",
       "  'MARGEM EBIT': nan,\n",
       "  'MARG LIQUIDA': nan,\n",
       "  'PSR': 0.0,\n",
       "  'CAGR RECEITAS 5 ANOS': -65.1,\n",
       "  'CAGR LUCROS 5 ANOS': nan},\n",
       " 'TCNO4': {'DY': nan,\n",
       "  'MARGEM BRUTA': nan,\n",
       "  'MARGEM EBIT': nan,\n",
       "  'MARG LIQUIDA': nan,\n",
       "  'PSR': 0.0,\n",
       "  'CAGR RECEITAS 5 ANOS': -65.1,\n",
       "  'CAGR LUCROS 5 ANOS': nan},\n",
       " 'TCSA3': {'DY': nan, 'CAGR LUCROS 5 ANOS': nan},\n",
       " 'TECN3': {'DY': nan, 'CAGR LUCROS 5 ANOS': nan},\n",
       " 'TEKA3': {'DY': nan,\n",
       "  'DIV LIQ/PATRI': -0.29738311214112845,\n",
       "  'CAGR LUCROS 5 ANOS': nan},\n",
       " 'TEKA4': {'DY': nan,\n",
       "  'DIV LIQ/PATRI': -0.29738311214112845,\n",
       "  'CAGR LUCROS 5 ANOS': nan},\n",
       " 'TELB3': {'DY': nan, 'CAGR LUCROS 5 ANOS': nan},\n",
       " 'TELB4': {'DY': nan, 'CAGR LUCROS 5 ANOS': nan},\n",
       " 'TEND3': {},\n",
       " 'TESA3': {'DY': nan, 'CAGR LUCROS 5 ANOS': nan},\n",
       " 'TGMA3': {},\n",
       " 'TIET11': {},\n",
       " 'TIET3': {},\n",
       " 'TIET4': {},\n",
       " 'TIMS3': {},\n",
       " 'TKNO4': {},\n",
       " 'TOTS3': {},\n",
       " 'TPIS3': {'DY': nan, 'CAGR LUCROS 5 ANOS': nan},\n",
       " 'TRIS3': {},\n",
       " 'TRPL3': {},\n",
       " 'TRPL4': {},\n",
       " 'TUPY3': {'DY': nan, 'CAGR LUCROS 5 ANOS': nan},\n",
       " 'TXRX3': {'DY': nan,\n",
       "  'DIV LIQ/PATRI': -0.7202653075289709,\n",
       "  'CAGR LUCROS 5 ANOS': nan},\n",
       " 'TXRX4': {'DY': nan,\n",
       "  'DIV LIQ/PATRI': -0.7202653075289709,\n",
       "  'CAGR LUCROS 5 ANOS': nan},\n",
       " 'UCAS3': {},\n",
       " 'UGPA3': {},\n",
       " 'UNIP3': {},\n",
       " 'UNIP5': {},\n",
       " 'UNIP6': {},\n",
       " 'USIM3': {'CAGR LUCROS 5 ANOS': nan},\n",
       " 'USIM5': {'CAGR LUCROS 5 ANOS': nan},\n",
       " 'USIM6': {'CAGR LUCROS 5 ANOS': nan},\n",
       " 'VALE3': {'CAGR LUCROS 5 ANOS': nan},\n",
       " 'VIVA3': {'CAGR RECEITAS 5 ANOS': 39.7, 'CAGR LUCROS 5 ANOS': nan},\n",
       " 'VIVR3': {'DY': nan,\n",
       "  'DIV LIQ/PATRI': -1.0300973592738414,\n",
       "  'PSR': -9.93,\n",
       "  'CAGR RECEITAS 5 ANOS': 0.0,\n",
       "  'CAGR LUCROS 5 ANOS': nan},\n",
       " 'VIVT3': {},\n",
       " 'VLID3': {'DY': nan},\n",
       " 'VULC3': {'DY': nan, 'CAGR LUCROS 5 ANOS': nan},\n",
       " 'VVAR3': {'DY': nan},\n",
       " 'WEGE3': {},\n",
       " 'WHRL3': {},\n",
       " 'WHRL4': {},\n",
       " 'WIZS3': {},\n",
       " 'WLMM3': {},\n",
       " 'WLMM4': {},\n",
       " 'WSON33': {},\n",
       " 'YDUQ3': {}}"
      ]
     },
     "execution_count": 24,
     "metadata": {},
     "output_type": "execute_result"
    }
   ],
   "source": [
    "tmp_missing"
   ]
  },
  {
   "cell_type": "code",
   "execution_count": 25,
   "id": "cellular-conducting",
   "metadata": {},
   "outputs": [],
   "source": [
    "sump = dict()\n",
    "for ticker, v in tmp_missing.items():\n",
    "    for attr, val in v.items():\n",
    "        if not np.isnan(val):\n",
    "            sump[attr] = sump.get(attr, 0) + 1\n",
    "            X.at[ticker, attr] = val"
   ]
  },
  {
   "cell_type": "code",
   "execution_count": 26,
   "id": "noted-coverage",
   "metadata": {},
   "outputs": [
    {
     "data": {
      "text/plain": [
       "{'ROIC': 43,\n",
       " 'DIV LIQ/PATRI': 64,\n",
       " 'CAGR RECEITAS 5 ANOS': 28,\n",
       " 'PSR': 17,\n",
       " 'LIQ CORRENTE': 7,\n",
       " 'P/CAP GIRO': 3}"
      ]
     },
     "execution_count": 26,
     "metadata": {},
     "output_type": "execute_result"
    }
   ],
   "source": [
    "sump"
   ]
  },
  {
   "cell_type": "code",
   "execution_count": 27,
   "id": "cloudy-complement",
   "metadata": {},
   "outputs": [],
   "source": [
    "X.drop(columns=['CAGR LUCROS 5 ANOS'], inplace=True)"
   ]
  },
  {
   "cell_type": "code",
   "execution_count": 28,
   "id": "genetic-cotton",
   "metadata": {},
   "outputs": [],
   "source": [
    "X.fillna(value={\n",
    "    'MARG LIQUIDA': 0,\n",
    "    'MARGEM BRUTA': 0,\n",
    "    'MARGEM EBIT': 0,\n",
    "    'DY': 0,\n",
    "    'DIV LIQ/PATRI': 0,\n",
    "    'DIVIDA LIQUIDA/EBIT': 0\n",
    "}, inplace=True)"
   ]
  },
  {
   "cell_type": "code",
   "execution_count": 29,
   "id": "spanish-style",
   "metadata": {
    "scrolled": true
   },
   "outputs": [
    {
     "data": {
      "text/plain": [
       "423"
      ]
     },
     "execution_count": 29,
     "metadata": {},
     "output_type": "execute_result"
    },
    {
     "data": {
      "image/png": "[encoded data removed]",
      "text/plain": [
       "<Figure size 720x576 with 1 Axes>"
      ]
     },
     "metadata": {
      "needs_background": "light"
     },
     "output_type": "display_data"
    }
   ],
   "source": [
    "X.isna().sum().plot.barh(rot=30, figsize=(10, 8))\n",
    "len(X)"
   ]
  },
  {
   "cell_type": "code",
   "execution_count": 30,
   "id": "unknown-species",
   "metadata": {},
   "outputs": [
    {
     "name": "stdout",
     "output_type": "stream",
     "text": [
      "PPLA11 NaN:\n",
      "['PSR', 'ROIC', 'CAGR RECEITAS 5 ANOS']\n",
      "----------------------------------------------------------------------------------------------------\n"
     ]
    }
   ],
   "source": [
    "tickers_nan = [idx for idx, row in X.iterrows() if row.isnull().any()]\n",
    "\n",
    "for t in tickers_nan:\n",
    "    print(f'{t} NaN:')\n",
    "    print([field for field, isna in X.loc[t].isna().iteritems() if isna])\n",
    "    print('-' * 100)"
   ]
  },
  {
   "cell_type": "code",
   "execution_count": 31,
   "id": "canadian-football",
   "metadata": {},
   "outputs": [
    {
     "name": "stdout",
     "output_type": "stream",
     "text": [
      "422\n"
     ]
    },
    {
     "data": {
      "text/plain": [
       "True"
      ]
     },
     "execution_count": 31,
     "metadata": {},
     "output_type": "execute_result"
    }
   ],
   "source": [
    "X.dropna(inplace=True)\n",
    "y.drop(tickers_nan, inplace=True)\n",
    "print(len(X))\n",
    "all(X.index == y.index)"
   ]
  },
  {
   "cell_type": "code",
   "execution_count": 32,
   "id": "herbal-retailer",
   "metadata": {},
   "outputs": [
    {
     "data": {
      "text/plain": [
       "0"
      ]
     },
     "execution_count": 32,
     "metadata": {},
     "output_type": "execute_result"
    }
   ],
   "source": [
    "X.isna().sum().sum()"
   ]
  },
  {
   "cell_type": "code",
   "execution_count": 33,
   "id": "provincial-looking",
   "metadata": {},
   "outputs": [
    {
     "data": {
      "text/plain": [
       "Index(['PRECO', 'DY', 'P/L', 'P/VP', 'P/ATIVOS', 'MARGEM BRUTA', 'MARGEM EBIT',\n",
       "       'MARG LIQUIDA', 'P/EBIT', 'EV/EBIT', 'DIVIDA LIQUIDA/EBIT',\n",
       "       'DIV LIQ/PATRI', 'PSR', 'P/CAP GIRO', 'P AT CIR LIQ', 'LIQ CORRENTE',\n",
       "       'ROE', 'ROA', 'ROIC', 'PATRIMONIO/ATIVOS', 'PASSIVOS/ATIVOS',\n",
       "       'GIRO ATIVOS', 'CAGR RECEITAS 5 ANOS', 'LIQUIDEZ MEDIA DIARIA', 'VPA',\n",
       "       'LPA', 'PEG Ratio', 'VALOR DE MERCADO', 'SETOR'],\n",
       "      dtype='object')"
      ]
     },
     "execution_count": 33,
     "metadata": {},
     "output_type": "execute_result"
    }
   ],
   "source": [
    "X.columns"
   ]
  },
  {
   "cell_type": "code",
   "execution_count": 34,
   "id": "alike-howard",
   "metadata": {},
   "outputs": [],
   "source": [
    "y.index = y.index.rename('TICKER')\n",
    "# X.to_csv(f'{data_prefix}/output/X.csv')\n",
    "# y.to_csv(f'{data_prefix}/output/y.csv')"
   ]
  },
  {
   "cell_type": "code",
   "execution_count": 35,
   "id": "fourth-reduction",
   "metadata": {},
   "outputs": [
    {
     "data": {
      "text/plain": [
       "True"
      ]
     },
     "execution_count": 35,
     "metadata": {},
     "output_type": "execute_result"
    }
   ],
   "source": [
    "len(X) == len(y)"
   ]
  },
  {
   "cell_type": "markdown",
   "id": "suffering-cursor",
   "metadata": {},
   "source": [
    "# Feature selection"
   ]
  },
  {
   "cell_type": "code",
   "execution_count": 36,
   "id": "incorrect-florence",
   "metadata": {},
   "outputs": [],
   "source": [
    "X.drop(columns=['PRECO'], inplace=True)"
   ]
  },
  {
   "cell_type": "code",
   "execution_count": 37,
   "id": "instrumental-bible",
   "metadata": {},
   "outputs": [],
   "source": [
    "X_ohe = pd.get_dummies(X)"
   ]
  },
  {
   "cell_type": "code",
   "execution_count": 38,
   "id": "hungarian-internship",
   "metadata": {},
   "outputs": [
    {
     "data": {
      "text/plain": [
       "Index(['var1y_6m', 'var6m_1d'], dtype='object')"
      ]
     },
     "execution_count": 38,
     "metadata": {},
     "output_type": "execute_result"
    }
   ],
   "source": [
    "y.columns"
   ]
  },
  {
   "cell_type": "code",
   "execution_count": 39,
   "id": "processed-poultry",
   "metadata": {},
   "outputs": [
    {
     "data": {
      "text/plain": [
       "Index(['DY', 'P/L', 'P/VP', 'P/ATIVOS', 'MARGEM BRUTA', 'MARGEM EBIT',\n",
       "       'MARG LIQUIDA', 'P/EBIT', 'EV/EBIT', 'DIVIDA LIQUIDA/EBIT',\n",
       "       'DIV LIQ/PATRI', 'PSR', 'P/CAP GIRO', 'P AT CIR LIQ', 'LIQ CORRENTE',\n",
       "       'ROE', 'ROA', 'ROIC', 'PATRIMONIO/ATIVOS', 'PASSIVOS/ATIVOS',\n",
       "       'GIRO ATIVOS', 'CAGR RECEITAS 5 ANOS', 'LIQUIDEZ MEDIA DIARIA', 'VPA',\n",
       "       'LPA', 'PEG Ratio', 'VALOR DE MERCADO', 'SETOR'],\n",
       "      dtype='object')"
      ]
     },
     "execution_count": 39,
     "metadata": {},
     "output_type": "execute_result"
    }
   ],
   "source": [
    "X.columns"
   ]
  },
  {
   "cell_type": "code",
   "execution_count": 40,
   "id": "interior-positive",
   "metadata": {},
   "outputs": [
    {
     "data": {
      "image/png": "[encoded data removed]",
      "text/plain": [
       "<Figure size 360x1224 with 2 Axes>"
      ]
     },
     "metadata": {
      "needs_background": "light"
     },
     "output_type": "display_data"
    }
   ],
   "source": [
    "corr = X.join(y).corr('spearman')\n",
    "ycolumns = [col for col in corr.columns if col not in y.columns]\n",
    "corr = corr.sort_values(by=['var1y_6m'], ascending=False)\n",
    "corr.drop(columns=ycolumns, inplace=True)\n",
    "    \n",
    "plt.figure(figsize=(5, 17))\n",
    "sns.heatmap(corr,\n",
    "            annot = True,\n",
    "            fmt = '.2f',\n",
    "            cmap='Blues',\n",
    "            square=True)\n",
    "plt.show()"
   ]
  },
  {
   "cell_type": "code",
   "execution_count": 41,
   "id": "covered-intersection",
   "metadata": {},
   "outputs": [],
   "source": [
    "from sklearn.feature_selection import mutual_info_classif\n",
    "\n",
    "mi = mutual_info_classif(X_ohe, y['var1y_6m'], random_state=42)"
   ]
  },
  {
   "cell_type": "code",
   "execution_count": 42,
   "id": "silver-tunnel",
   "metadata": {},
   "outputs": [
    {
     "name": "stdout",
     "output_type": "stream",
     "text": [
      "10.81% :: LPA\n",
      "7.91% :: MARGEM BRUTA\n",
      "7.85% :: DIVIDA LIQUIDA/EBIT\n",
      "7.74% :: MARG LIQUIDA\n",
      "7.56% :: DY\n",
      "7.10% :: LIQUIDEZ MEDIA DIARIA\n",
      "6.39% :: MARGEM EBIT\n",
      "5.74% :: PATRIMONIO/ATIVOS\n",
      "5.71% :: CAGR RECEITAS 5 ANOS\n",
      "5.63% :: GIRO ATIVOS\n",
      "5.00% :: LIQ CORRENTE\n",
      "4.92% :: PEG Ratio\n",
      "4.76% :: P AT CIR LIQ\n",
      "4.59% :: P/VP\n",
      "4.37% :: ROE\n",
      "4.23% :: ROA\n",
      "4.18% :: P/L\n",
      "3.92% :: ROIC\n",
      "3.66% :: DIV LIQ/PATRI\n",
      "3.41% :: SETOR_CONSUMO CÍCLICO\n",
      "3.40% :: PSR\n",
      "3.14% :: VPA\n",
      "3.12% :: EV/EBIT\n",
      "2.71% :: P/ATIVOS\n",
      "2.30% :: SETOR_PETRÓLEO. GÁS E BIOCOMBUSTÍVEIS\n",
      "2.23% :: SETOR_COMUNICAÇÕES\n",
      "2.20% :: P/EBIT\n",
      "1.81% :: PASSIVOS/ATIVOS\n",
      "1.18% :: SETOR_FINANCEIRO E OUTROS\n",
      "1.15% :: SETOR_UTILIDADE PÚBLICA\n",
      "0.67% :: SETOR_TECNOLOGIA DA INFORMAÇÃO\n",
      "0.55% :: P/CAP GIRO\n",
      "0.55% :: SETOR_BENS INDUSTRIAIS\n",
      "0.26% :: SETOR_SAÚDE\n",
      "0.00% :: VALOR DE MERCADO\n",
      "0.00% :: SETOR_CONSUMO NÃO CÍCLICO\n",
      "0.00% :: SETOR_MATERIAIS BÁSICOS\n"
     ]
    }
   ],
   "source": [
    "importances = list(zip(X_ohe.columns, mi))\n",
    "importances.sort(key=lambda x: x[1], reverse=True)\n",
    "for feat, val in importances:\n",
    "    print(f'{val * 100:.2f}% :: {feat}')"
   ]
  },
  {
   "cell_type": "code",
   "execution_count": 43,
   "id": "familiar-telescope",
   "metadata": {},
   "outputs": [],
   "source": [
    "from sklearn.tree import DecisionTreeClassifier\n",
    "from sklearn.model_selection import GridSearchCV\n",
    "\n",
    "tree_hyper = {\n",
    "    'criterion': ['gini', 'entropy'],\n",
    "    'splitter': ['best', 'random'],\n",
    "    'max_depth': [None, *list(range(1, 10))],\n",
    "    'min_samples_split': list(range(2, 5)),\n",
    "    'min_samples_leaf': list(range(1, 5)),\n",
    "    'max_features': [None, 'auto', 'sqrt', 'log2'],\n",
    "    'random_state': [42],\n",
    "    'class_weight': [None, 'balanced']\n",
    "}\n",
    "\n",
    "clf = GridSearchCV(DecisionTreeClassifier(), tree_hyper, cv=5, n_jobs=-1, verbose=3)"
   ]
  },
  {
   "cell_type": "code",
   "execution_count": 44,
   "id": "forward-purchase",
   "metadata": {},
   "outputs": [
    {
     "name": "stdout",
     "output_type": "stream",
     "text": [
      "Fitting 5 folds for each of 3840 candidates, totalling 19200 fits\n",
      "CPU times: user 11.1 s, sys: 355 ms, total: 11.5 s\n",
      "Wall time: 24.6 s\n"
     ]
    },
    {
     "data": {
      "text/plain": [
       "GridSearchCV(cv=5, estimator=DecisionTreeClassifier(), n_jobs=-1,\n",
       "             param_grid={'class_weight': [None, 'balanced'],\n",
       "                         'criterion': ['gini', 'entropy'],\n",
       "                         'max_depth': [None, 1, 2, 3, 4, 5, 6, 7, 8, 9],\n",
       "                         'max_features': [None, 'auto', 'sqrt', 'log2'],\n",
       "                         'min_samples_leaf': [1, 2, 3, 4],\n",
       "                         'min_samples_split': [2, 3, 4], 'random_state': [42],\n",
       "                         'splitter': ['best', 'random']},\n",
       "             verbose=3)"
      ]
     },
     "execution_count": 44,
     "metadata": {},
     "output_type": "execute_result"
    }
   ],
   "source": [
    "%%time\n",
    "clf.fit(X_ohe, y['var1y_6m'])"
   ]
  },
  {
   "cell_type": "code",
   "execution_count": 45,
   "id": "piano-hacker",
   "metadata": {},
   "outputs": [
    {
     "name": "stdout",
     "output_type": "stream",
     "text": [
      "56.83% :: DY\n",
      "30.16% :: LPA\n",
      "13.01% :: MARGEM BRUTA\n",
      "0.00% :: P/L\n",
      "0.00% :: P/VP\n",
      "0.00% :: P/ATIVOS\n",
      "0.00% :: MARGEM EBIT\n",
      "0.00% :: MARG LIQUIDA\n",
      "0.00% :: P/EBIT\n",
      "0.00% :: EV/EBIT\n",
      "0.00% :: DIVIDA LIQUIDA/EBIT\n",
      "0.00% :: DIV LIQ/PATRI\n",
      "0.00% :: PSR\n",
      "0.00% :: P/CAP GIRO\n",
      "0.00% :: P AT CIR LIQ\n",
      "0.00% :: LIQ CORRENTE\n",
      "0.00% :: ROE\n",
      "0.00% :: ROA\n",
      "0.00% :: ROIC\n",
      "0.00% :: PATRIMONIO/ATIVOS\n",
      "0.00% :: PASSIVOS/ATIVOS\n",
      "0.00% :: GIRO ATIVOS\n",
      "0.00% :: CAGR RECEITAS 5 ANOS\n",
      "0.00% :: LIQUIDEZ MEDIA DIARIA\n",
      "0.00% :: VPA\n",
      "0.00% :: PEG Ratio\n",
      "0.00% :: VALOR DE MERCADO\n",
      "0.00% :: SETOR_BENS INDUSTRIAIS\n",
      "0.00% :: SETOR_COMUNICAÇÕES\n",
      "0.00% :: SETOR_CONSUMO CÍCLICO\n",
      "0.00% :: SETOR_CONSUMO NÃO CÍCLICO\n",
      "0.00% :: SETOR_FINANCEIRO E OUTROS\n",
      "0.00% :: SETOR_MATERIAIS BÁSICOS\n",
      "0.00% :: SETOR_PETRÓLEO. GÁS E BIOCOMBUSTÍVEIS\n",
      "0.00% :: SETOR_SAÚDE\n",
      "0.00% :: SETOR_TECNOLOGIA DA INFORMAÇÃO\n",
      "0.00% :: SETOR_UTILIDADE PÚBLICA\n"
     ]
    }
   ],
   "source": [
    "importances = list(zip(X_ohe.columns, clf.best_estimator_.feature_importances_))\n",
    "importances.sort(key=lambda x: x[1], reverse=True)\n",
    "for feat, val in importances:\n",
    "    print(f'{val * 100:.2f}% :: {feat}')"
   ]
  },
  {
   "cell_type": "markdown",
   "id": "bigger-adult",
   "metadata": {},
   "source": [
    "**Recall de 99% para ações que tiveram variação >20% em 6 meses!!**"
   ]
  },
  {
   "cell_type": "code",
   "execution_count": 46,
   "id": "prospective-jesus",
   "metadata": {},
   "outputs": [
    {
     "name": "stdout",
     "output_type": "stream",
     "text": [
      "              precision    recall  f1-score   support\n",
      "\n",
      "          -2       0.00      0.00      0.00        96\n",
      "          -1       0.25      0.01      0.03       152\n",
      "           1       0.00      0.00      0.00        52\n",
      "           2       0.29      0.99      0.45       122\n",
      "\n",
      "    accuracy                           0.29       422\n",
      "   macro avg       0.14      0.25      0.12       422\n",
      "weighted avg       0.17      0.29      0.14       422\n",
      "\n"
     ]
    },
    {
     "name": "stderr",
     "output_type": "stream",
     "text": [
      "/home/adilson/.anaconda3/envs/TCC/lib/python3.9/site-packages/sklearn/metrics/_classification.py:1245: UndefinedMetricWarning: Precision and F-score are ill-defined and being set to 0.0 in labels with no predicted samples. Use `zero_division` parameter to control this behavior.\n",
      "  _warn_prf(average, modifier, msg_start, len(result))\n",
      "/home/adilson/.anaconda3/envs/TCC/lib/python3.9/site-packages/sklearn/metrics/_classification.py:1245: UndefinedMetricWarning: Precision and F-score are ill-defined and being set to 0.0 in labels with no predicted samples. Use `zero_division` parameter to control this behavior.\n",
      "  _warn_prf(average, modifier, msg_start, len(result))\n",
      "/home/adilson/.anaconda3/envs/TCC/lib/python3.9/site-packages/sklearn/metrics/_classification.py:1245: UndefinedMetricWarning: Precision and F-score are ill-defined and being set to 0.0 in labels with no predicted samples. Use `zero_division` parameter to control this behavior.\n",
      "  _warn_prf(average, modifier, msg_start, len(result))\n"
     ]
    }
   ],
   "source": [
    "y_pred = clf.best_estimator_.predict(X_ohe)\n",
    "\n",
    "from sklearn.metrics import classification_report\n",
    "\n",
    "print(classification_report(y['var6m_1d'], y_pred))"
   ]
  },
  {
   "cell_type": "markdown",
   "id": "sonic-content",
   "metadata": {},
   "source": [
    "https://www.suno.com.br/artigos/como-selecionar-acoes/"
   ]
  }
 ],
 "metadata": {
  "kernelspec": {
   "display_name": "Python 3",
   "language": "python",
   "name": "python3"
  },
  "language_info": {
   "codemirror_mode": {
    "name": "ipython",
    "version": 3
   },
   "file_extension": ".py",
   "mimetype": "text/x-python",
   "name": "python",
   "nbconvert_exporter": "python",
   "pygments_lexer": "ipython3",
   "version": "3.9.0"
  }
 },
 "nbformat": 4,
 "nbformat_minor": 5
}
